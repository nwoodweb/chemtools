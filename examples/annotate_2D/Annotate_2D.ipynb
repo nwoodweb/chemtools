{
 "cells": [
  {
   "cell_type": "markdown",
   "id": "415389d5",
   "metadata": {},
   "source": [
    "# 2D Annotations of Molecules \n",
    "\n",
    "## Introduction\n",
    "The goal of this project is to render a 2 dimensional molecular drawing with annotations detailing a specific feature per atom. \n",
    "\n",
    "This example \n",
    "\n",
    "## Dependencies\n",
    "1. IOData\n",
    "2. Numpy\n",
    "3. RDKit\n",
    "5. CHEMML \n",
    "6. Pandas\n",
    "7. Glob \n",
    "8. OS \n"
   ]
  },
  {
   "cell_type": "code",
   "execution_count": 114,
   "id": "3744a11c",
   "metadata": {},
   "outputs": [],
   "source": [
    "# import required libraries\n",
    "from iodata import load_one, dump_one\n",
    "\n",
    "import numpy as np\n",
    "\n",
    "from rdkit import Chem\n",
    "from rdkit.Chem import AllChem\n",
    "from rdkit.Chem.rdchem import Atom\n",
    "from rdkit.Chem import Draw\n",
    "from rdkit.Chem.Draw import rdMolDraw2D\n",
    "from rdkit.Chem.Draw import MolToImage\n",
    "from rdkit.Chem.Draw import DrawingOptions\n",
    "\n",
    "from IPython.display import Image\n",
    "\n",
    "from chemml.chem import Molecule\n",
    "\n",
    "import pandas as pd\n",
    "import glob\n",
    "import os"
   ]
  },
  {
   "cell_type": "markdown",
   "id": "055a3b9c",
   "metadata": {},
   "source": [
    "## Manipulation of Input and Extraction of Charges \n",
    "\n",
    "We first want to open our file using IOData, designated `loadInput`, from then we can extract informations related to the `.fchk` file using IOData to annotate our molecule"
   ]
  },
  {
   "cell_type": "code",
   "execution_count": 118,
   "id": "ee68d1a9",
   "metadata": {
    "scrolled": true
   },
   "outputs": [
    {
     "name": "stdout",
     "output_type": "stream",
     "text": [
      "Molecule Name : \n",
      "dichloropyridine26_q+0\n",
      " \n"
     ]
    }
   ],
   "source": [
    "inputName = 'dichloropyridine26_q+0.fchk'\n",
    "loadInput = load_one(inputName) \n",
    "\n",
    "xyzName = 'dichloropyridine26_q+0.xyz'\n",
    "pdbName = 'dichloropyridine26_q+0.pdb'\n",
    "molName = xyzName[:-4]\n",
    "imageName = f\"{molName}.png\" \n",
    "\n",
    "print(\"Molecule Name : \")\n",
    "print(molName)\n",
    "print(\" \")\n",
    "\n",
    "dump_one(loadInput,pdbName)\n",
    "dump_one(loadInput, xyzName)\n",
    "espCharges = loadInput.atcharges['esp'][:]"
   ]
  },
  {
   "cell_type": "markdown",
   "id": "9fb5b251",
   "metadata": {},
   "source": [
    "## Manipulate Molecule to Create MOL Object\n",
    "We need to dump our IOData loaded molecule into an `.xyz` file, which can then be parsed using `CHEMML`, to create a data table containing basic information such as filename, XYZ Cartesian Coordinates, and the SMILES equivalent of the molecule.\n",
    "\n",
    "We can then extract the SMILES string and convert into MOL Format for processing by RDKit. \n",
    "\n",
    "We can then use a series of commands `drawMolecule.*` to generate a visualization of our molecule. \n",
    "\n",
    "The below image is RDKit visualization without annotations. "
   ]
  },
  {
   "cell_type": "code",
   "execution_count": 119,
   "id": "22744f1d",
   "metadata": {},
   "outputs": [
    {
     "name": "stdout",
     "output_type": "stream",
     "text": [
      "<chemml.chem.Molecule(\n",
      "        rdkit_molecule : None,\n",
      "        pybel_molecule : <openbabel.pybel.Molecule object at 0x7fd83761d4d0>,\n",
      "        creator        : ('XYZ', 'dichloropyridine26_q+0.xyz'),\n",
      "        smiles         : None,\n",
      "        smarts         : None,\n",
      "        inchi          : None,\n",
      "        xyz            : <XYZ(geometry: (11, 3), atomic_numbers: (11, 1), atomic_symbols: (11, 1))>)>\n",
      "Clc1nc(Cl)ccc1\tdichloropyridine26_q+0 ub3lyp/cc-pvtz sp-stable\n",
      "\n",
      "[<chemml.chem.Molecule(\n",
      "        rdkit_molecule : <rdkit.Chem.rdchem.Mol object at 0x7fd837600260>,\n",
      "        pybel_molecule : <openbabel.pybel.Molecule object at 0x7fd837659a90>,\n",
      "        creator        : ('XYZ', 'dichloropyridine26_q+0.xyz'),\n",
      "        smiles         : 'Clc1cccc(Cl)n1',\n",
      "        smarts         : None,\n",
      "        inchi          : None,\n",
      "        xyz            : <XYZ(geometry: (11, 3), atomic_numbers: (11, 1), atomic_symbols: (11, 1))>)>]\n",
      " \n",
      "\n",
      "                         Name          SMILES\n",
      "0  dichloropyridine26_q+0.xyz  Clc1cccc(Cl)n1\n",
      " \n",
      "Our Molecule in SMILES format: \n",
      "Clc1cccc(Cl)n1\n",
      " \n",
      "-0.119822758\n",
      "-0.119828567\n",
      "-0.538243531\n",
      "0.260573695\n",
      "-0.453200648\n",
      "-0.4532028\n",
      "0.499768812\n",
      "0.499772652\n"
     ]
    },
    {
     "data": {
      "image/png": "[encoded data removed]",
      "text/plain": [
       "<IPython.core.display.Image object>"
      ]
     },
     "execution_count": 119,
     "metadata": {},
     "output_type": "execute_result"
    }
   ],
   "source": [
    "xyz_files = glob.glob(xyzName)\n",
    "mol = Molecule('dichloropyridine26_q+0.xyz', 'xyz')\n",
    "print(mol)\n",
    "print(mol.visualize())\n",
    "\n",
    "# make a list of ChemML Molecule object instances based on the names of the xyz files from xyz_files\n",
    "molecule_list = [Molecule(xyzName, input_type='xyz') for file in xyz_files]\n",
    "\n",
    "# alter the ChemML Molecule object instances of molecule_list so that their SMILES codes can be recognzied by RDKit\n",
    "for molecule in molecule_list:\n",
    "    molecule.to_smiles()\n",
    "\n",
    "print(molecule_list)\n",
    "\n",
    "table = pd.DataFrame(data={'Name':xyzName,  \n",
    "                         'SMILES':[molecule.smiles for molecule in molecule_list]}, \n",
    "                   columns=['Name','SMILES'])\n",
    "\n",
    "print(\" \")\n",
    "print(\"\")\n",
    "print(table)\n",
    "\n",
    "print(\" \")\n",
    "smiles = table.iloc[0,1]\n",
    "print(\"Our Molecule in SMILES format: \")\n",
    "print(smiles)\n",
    "print(\" \")\n",
    "\n",
    "\n",
    "chem = Chem.MolFromPDBFile('test.pdb', sanitize=True)\n",
    "template = Chem.MolFromSmiles(smiles)\n",
    "AllChem.Compute2DCoords(chem)\n",
    "tempMol = AllChem.AssignBondOrdersFromTemplate(template,chem)\n",
    "\n",
    "def imageMolecule(chem,imageName):\n",
    "    \"\"\"\n",
    "    This function consolidates all calls done to generate the desired image\n",
    "    \"\"\"\n",
    "    \n",
    "    drawMolecule = rdMolDraw2D.MolDraw2DCairo(300, 300)\n",
    "    rdMolDraw2D.PrepareAndDrawMolecule(drawMolecule, chem)\n",
    "    drawMolecule.drawOptions().addStereoAnnotation = True\n",
    "    \n",
    "    for i, atom in enumerate(tempMol.GetAtoms()):\n",
    "        atom.SetProp(\"atomNote\", f\"{np.round(float(espCharges[i]),3)}\")\n",
    "        print(espCharges[i])\n",
    "    \n",
    "    Chem.Draw.MolToFile(tempMol,imageName)\n",
    "\n",
    "\n",
    "imageMolecule(test,imageName)\n",
    "\n",
    "Image(imageName)"
   ]
  },
  {
   "cell_type": "code",
   "execution_count": null,
   "id": "9d4c4405",
   "metadata": {},
   "outputs": [],
   "source": []
  }
 ],
 "metadata": {
  "kernelspec": {
   "display_name": "Python [conda env:.conda-chemml_env] *",
   "language": "python",
   "name": "conda-env-.conda-chemml_env-py"
  },
  "language_info": {
   "codemirror_mode": {
    "name": "ipython",
    "version": 3
   },
   "file_extension": ".py",
   "mimetype": "text/x-python",
   "name": "python",
   "nbconvert_exporter": "python",
   "pygments_lexer": "ipython3",
   "version": "3.7.10"
  }
 },
 "nbformat": 4,
 "nbformat_minor": 5
}
