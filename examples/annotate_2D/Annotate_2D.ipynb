{
 "cells": [
  {
   "cell_type": "markdown",
   "id": "415389d5",
   "metadata": {},
   "source": [
    "# 2D Annotations of Molecules \n",
    "\n",
    "## Introduction\n",
    "The goal of this project is to render a 2 dimensional molecular drawing with annotations detailing a specific feature per atom. \n",
    "\n",
    "This example \n",
    "\n",
    "## Dependencies\n",
    "1. IOData\n",
    "2. Numpy\n",
    "3. RDKit\n",
    "4. Collections\n",
    "5. CHEMML \n",
    "6. Pandas\n",
    "7. Glob \n",
    "8. OS \n"
   ]
  },
  {
   "cell_type": "code",
   "execution_count": 49,
   "id": "3744a11c",
   "metadata": {},
   "outputs": [],
   "source": [
    "# import required libraries\n",
    "from iodata import load_one, dump_one\n",
    "\n",
    "import numpy as np\n",
    "\n",
    "from rdkit import Chem\n",
    "from rdkit.Chem import AllChem\n",
    "from rdkit.Chem.rdchem import Atom\n",
    "from rdkit.Chem import Draw\n",
    "from rdkit.Chem.Draw import rdMolDraw2D\n",
    "from rdkit.Chem.Draw import MolToImage\n",
    "from rdkit.Chem import rdMolTransforms \n",
    "from rdkit.Chem import PeriodicTable\n",
    "from rdkit.Chem import rdmolfiles\n",
    "from rdkit.Chem.Draw import DrawingOptions\n",
    "\n",
    "from IPython.display import SVG\n",
    "from IPython.display import Image\n",
    "\n",
    "from collections import OrderedDict\n",
    "\n",
    "from chemml.chem import Molecule\n",
    "\n",
    "import pandas as pd\n",
    "\n",
    "import glob\n",
    "import os"
   ]
  },
  {
   "cell_type": "markdown",
   "id": "055a3b9c",
   "metadata": {},
   "source": [
    "## Manipulation of Input and Extraction of Charges \n",
    "\n",
    "We first want to open our file using IOData, designated `loadInput`, from then we can extract informations related to the `.fchk` file using IOData to annotate our molecule"
   ]
  },
  {
   "cell_type": "code",
   "execution_count": 50,
   "id": "ee68d1a9",
   "metadata": {
    "scrolled": true
   },
   "outputs": [
    {
     "name": "stdout",
     "output_type": "stream",
     "text": [
      "Molecule Name : \n",
      "dichloropyridine26_q+0\n",
      " \n"
     ]
    }
   ],
   "source": [
    "inputName = 'dichloropyridine26_q+0.fchk'\n",
    "loadInput = load_one(inputName) \n",
    "\n",
    "xyzName = 'dichloropyridine26_q+0.xyz'\n",
    "\n",
    "molName = xyzName[:-4]\n",
    "\n",
    "\n",
    "print(\"Molecule Name : \")\n",
    "print(molName)\n",
    "print(\" \")\n",
    "\n"
   ]
  },
  {
   "cell_type": "markdown",
   "id": "9fb5b251",
   "metadata": {},
   "source": [
    "## Manipulate Molecule to Create MOL Object\n",
    "We need to dump our IOData loaded molecule into an `.xyz` file, which can then be parsed using `CHEMML`, to create a data table containing basic information such as filename, XYZ Cartesian Coordinates, and the SMILES equivalent of the molecule.\n",
    "\n",
    "We can then extract the SMILES string and convert into MOL Format for processing by RDKit. \n",
    "\n",
    "We can then use a series of commands `drawMolecule.*` to generate a visualization of our molecule. \n",
    "\n",
    "The below image is RDKit visualization without annotations. "
   ]
  },
  {
   "cell_type": "code",
   "execution_count": 51,
   "id": "22744f1d",
   "metadata": {},
   "outputs": [
    {
     "name": "stdout",
     "output_type": "stream",
     "text": [
      "[<chemml.chem.Molecule(\n",
      "        rdkit_molecule : <rdkit.Chem.rdchem.Mol object at 0x7f12c702bad0>,\n",
      "        pybel_molecule : <openbabel.pybel.Molecule object at 0x7f12c6391ad0>,\n",
      "        creator        : ('XYZ', 'dichloropyridine26_q+0.xyz'),\n",
      "        smiles         : 'Clc1cccc(Cl)n1',\n",
      "        smarts         : None,\n",
      "        inchi          : None,\n",
      "        xyz            : <XYZ(geometry: (11, 3), atomic_numbers: (11, 1), atomic_symbols: (11, 1))>)>]\n",
      " \n",
      "\n",
      "                         Name          SMILES\n",
      "0  dichloropyridine26_q+0.xyz  Clc1cccc(Cl)n1\n",
      " \n",
      "Our Molecule in SMILES format: \n",
      "Clc1cccc(Cl)n1\n",
      " \n"
     ]
    },
    {
     "data": {
      "image/png": "[encoded data removed]",
      "text/plain": [
       "<IPython.core.display.Image object>"
      ]
     },
     "execution_count": 51,
     "metadata": {},
     "output_type": "execute_result"
    }
   ],
   "source": [
    "dump_one(loadInput,xyzName )\n",
    "xyz_files = glob.glob(xyzName)\n",
    "\n",
    "# make a list of ChemML Molecule object instances based on the names of the xyz files from xyz_files\n",
    "molecule_list = [Molecule(xyzName, input_type='xyz') for file in xyz_files]\n",
    "\n",
    "# alter the ChemML Molecule object instances of molecule_list so that their SMILES codes can be recognzied by RDKit\n",
    "for molecule in molecule_list:\n",
    "    molecule.to_smiles(kekuleSmiles=True)\n",
    "\n",
    "print(molecule_list)\n",
    "\n",
    "table = pd.DataFrame(data={'Name':xyzName,  \n",
    "                         'SMILES':[molecule.smiles for molecule in molecule_list]}, \n",
    "                   columns=['Name','SMILES'])\n",
    "\n",
    "print(\" \")\n",
    "print(\"\")\n",
    "print(table)\n",
    "\n",
    "print(\" \")\n",
    "smiles = table.iloc[0,1]\n",
    "print(\"Our Molecule in SMILES format: \")\n",
    "print(smiles)\n",
    "print(\" \")\n",
    "\n",
    "chem = Chem.MolFromSmiles(smiles)\n",
    "chemc = Chem.Mol(chem.ToBinary())\n",
    "\n",
    "drawMolecule = rdMolDraw2D.MolDraw2DCairo(300, 300)\n",
    "rdMolDraw2D.PrepareAndDrawMolecule(drawMolecule, chemc)\n",
    "drawMolecule.drawOptions().addStereoAnnotation = True\n",
    "#drawMolecule.drawOptions().addAtomIndices = True\n",
    "#drawMolecule.drawOptions().addBondIndices = True\n",
    "drawMolecule.DrawMolecule(chemc)\n",
    "drawMolecule.FinishDrawing()\n",
    "png = drawMolecule.WriteDrawingText('molecule.png')\n",
    "png\n",
    "\n",
    "Image(filename=\"molecule.png\")\n",
    "\n",
    "\n"
   ]
  },
  {
   "cell_type": "code",
   "execution_count": 52,
   "id": "18c584a4",
   "metadata": {},
   "outputs": [
    {
     "name": "stdout",
     "output_type": "stream",
     "text": [
      "[('Cl', 17), ('C', 6), ('C', 6), ('C', 6), ('C', 6), ('C', 6), ('Cl', 17), ('N', 7), ('H', 1), ('H', 1), ('H', 1)]\n",
      "['Cl', 'C', 'C', 'C', 'C', 'C', 'Cl', 'N', 'H', 'H', 'H']\n"
     ]
    }
   ],
   "source": [
    "symList =[]\n",
    "atomList = []\n",
    "chem2 = Chem.AddHs(chem)\n",
    "for atom in chem2.GetAtoms():\n",
    "    step = atom.GetSymbol(),atom.GetAtomicNum()\n",
    "    symList.append(step)\n",
    "    atomList.append(atom.GetSymbol())\n",
    "print(symList)\n",
    "print(atomList)\n"
   ]
  },
  {
   "cell_type": "markdown",
   "id": "a6bf61ec",
   "metadata": {},
   "source": [
    "## Annotations\n",
    "We now want to retrieve IOData information, and add it to our visualization by appending the information to the MOL Object. \n",
    "\n",
    "In this context, we are outputting atomic number and electrostatic potential charges. \n"
   ]
  },
  {
   "cell_type": "code",
   "execution_count": 188,
   "id": "16a79a6d",
   "metadata": {},
   "outputs": [
    {
     "name": "stdout",
     "output_type": "stream",
     "text": [
      "[('Cl', 17), ('C', 6), ('C', 6), ('C', 6), ('C', 6), ('C', 6), ('Cl', 17), ('N', 7), ('H', 1), ('H', 1), ('H', 1)]\n",
      "matched list (error): \n",
      "[(('Cl', 17), -0.119828567), (('C', 6), 0.499772652), (('C', 6), 0.499772652), (('C', 6), 0.499772652), (('C', 6), 0.499772652), (('C', 6), 0.499772652), (('Cl', 17), -0.119828567), (('N', 7), -0.538243531), (('H', 1), 0.169855031), (('H', 1), 0.169855031), (('H', 1), 0.169855031), (('Cl', 17), -0.119828567), (('C', 6), 0.499772652), (('C', 6), 0.499772652), (('C', 6), 0.499772652), (('C', 6), 0.499772652), (('C', 6), 0.499772652), (('Cl', 17), -0.119828567), (('N', 7), -0.538243531), (('H', 1), 0.169855031), (('H', 1), 0.169855031), (('H', 1), 0.169855031), (('Cl', 17), -0.119828567), (('C', 6), 0.499772652), (('C', 6), 0.499772652), (('C', 6), 0.499772652), (('C', 6), 0.499772652), (('C', 6), 0.499772652), (('Cl', 17), -0.119828567), (('N', 7), -0.538243531), (('H', 1), 0.169855031), (('H', 1), 0.169855031), (('H', 1), 0.169855031)]\n"
     ]
    }
   ],
   "source": [
    "print(symList)\n",
    "\n",
    "for i,value in enumerate(symList): \n",
    "    test = value\n",
    "    for k,charge in enumerate(espCharges):\n",
    "        if value[1] == numbers[k]:\n",
    "            test2 = espCharges[k]\n",
    "    step = test,test2\n",
    "    matchedList.append(step)\n",
    "    \n",
    "    \n",
    "print(\"matched list (error): \")\n",
    "print(matchedList)\n"
   ]
  },
  {
   "cell_type": "code",
   "execution_count": 186,
   "id": "cb1be89f",
   "metadata": {},
   "outputs": [
    {
     "name": "stdout",
     "output_type": "stream",
     "text": [
      "IOData Retrieved Charges, Bulk :  \n",
      "{'mulliken': array([-0.17984029, -0.17984725,  0.05002824, -0.04091242,  2.02394948,\n",
      "        2.0239583 , -0.86473324, -0.86474131, -0.67554864, -0.64615815,\n",
      "       -0.64615473]), 'esp': array([-0.11982276, -0.11982857, -0.53824353,  0.26057369, -0.45320065,\n",
      "       -0.4532028 ,  0.49976881,  0.49977265,  0.0844758 ,  0.16985231,\n",
      "        0.16985503]), 'npa': array([ 0.01191899,  0.01191245, -0.49012581, -0.1689309 , -0.27573862,\n",
      "       -0.2757388 ,  0.21524212,  0.21524428,  0.24472353,  0.25574567,\n",
      "        0.25574709])}\n",
      " \n",
      "IOData Retrieved Atomic Numbers : \n",
      "[17, 17, 7, 6, 6, 6, 6, 6, 1, 1, 1]\n",
      " \n",
      " IOData Retrieved ESP Charges : \n",
      "[-0.11982276 -0.11982857 -0.53824353  0.26057369 -0.45320065 -0.4532028\n",
      "  0.49976881  0.49977265  0.0844758   0.16985231  0.16985503]\n",
      " \n",
      "STEST\n",
      "[('H', 0.169855031)]\n"
     ]
    },
    {
     "data": {
      "image/png": "[encoded data removed]",
      "text/plain": [
       "<rdkit.Chem.rdchem.Mol at 0x7f12c7039670>"
      ]
     },
     "execution_count": 186,
     "metadata": {},
     "output_type": "execute_result"
    }
   ],
   "source": [
    "chem2 = chem\n",
    "numbers = np.ndarray.tolist(loadInput.atnums)\n",
    "print(\"IOData Retrieved Charges, Bulk :  \")\n",
    "chargeDict = (loadInput.atcharges)\n",
    "print(chargeDict)\n",
    "\n",
    "espCharges = (chargeDict['esp'][:])\n",
    "print(\" \")\n",
    "print(\"IOData Retrieved Atomic Numbers : \")\n",
    "print(numbers)\n",
    "\n",
    "print(\" \")\n",
    "print(\" IOData Retrieved ESP Charges : \")\n",
    "print(espCharges)\n",
    "print(\" \")\n",
    "dict = []\n",
    "print(\"STEST\")\n",
    "for i in range(0,len(numbers)):\n",
    "    step = numbers[i],espCharges[i]\n",
    "    dict.append(step)\n",
    "\n",
    "test = []\n",
    "\n",
    "\n",
    "def function(test):\n",
    "    if symList[i][1] == dict[i][0]:\n",
    "        step = atomList[i],dict[i][1]\n",
    "        test.append(step)\n",
    "function(test)\n",
    "print(test)\n",
    "for i, atom in enumerate(chem2.GetAtoms()):\n",
    "    atom.SetProp(\"atomNote\", f\"{matchedList[i][1]}\")\n",
    "\n",
    "chem2\n",
    "\n",
    "\n"
   ]
  },
  {
   "cell_type": "code",
   "execution_count": null,
   "id": "111db663",
   "metadata": {
    "scrolled": true
   },
   "outputs": [],
   "source": []
  },
  {
   "cell_type": "code",
   "execution_count": null,
   "id": "8a5c1c12",
   "metadata": {},
   "outputs": [],
   "source": []
  },
  {
   "cell_type": "code",
   "execution_count": null,
   "id": "f9c16415",
   "metadata": {},
   "outputs": [],
   "source": []
  },
  {
   "cell_type": "code",
   "execution_count": 54,
   "id": "a006790a",
   "metadata": {},
   "outputs": [
    {
     "name": "stdout",
     "output_type": "stream",
     "text": [
      "OrderedDict([('Cl', 17), ('C', 6), ('N', 7), ('H', 1)])\n"
     ]
    }
   ],
   "source": [
    "print(OrderedDict(symList[:]))"
   ]
  },
  {
   "cell_type": "code",
   "execution_count": 114,
   "id": "ba56304c",
   "metadata": {},
   "outputs": [
    {
     "name": "stdout",
     "output_type": "stream",
     "text": [
      "['17,-0.119822758', '17,-0.119828567', '7,-0.538243531', '6,0.260573695', '6,-0.453200648', '6,-0.4532028', '6,0.499768812', '6,0.499772652', '1,0.0844758043', '1,0.16985231', '1,0.169855031']\n"
     ]
    }
   ],
   "source": [
    "temp = symList\n",
    "lol = []\n",
    "for i,value in enumerate(symList): \n",
    "\n",
    "    for k,charge in enumerate(espCharges):\n",
    "        if symList[k][1] == numbers[i]:\n",
    "            test = symList[k]\n",
    "            test2 = espCharges[i]\n",
    "    lol.append(f\"{test[:][1]},{test2}\")\n",
    "print(lol)"
   ]
  },
  {
   "cell_type": "code",
   "execution_count": null,
   "id": "6df6eba9",
   "metadata": {},
   "outputs": [],
   "source": []
  },
  {
   "cell_type": "code",
   "execution_count": null,
   "id": "357cb026",
   "metadata": {},
   "outputs": [],
   "source": []
  },
  {
   "cell_type": "code",
   "execution_count": null,
   "id": "ad39db6d",
   "metadata": {},
   "outputs": [],
   "source": []
  }
 ],
 "metadata": {
  "kernelspec": {
   "display_name": "Python [conda env:.conda-chemml_env] *",
   "language": "python",
   "name": "conda-env-.conda-chemml_env-py"
  },
  "language_info": {
   "codemirror_mode": {
    "name": "ipython",
    "version": 3
   },
   "file_extension": ".py",
   "mimetype": "text/x-python",
   "name": "python",
   "nbconvert_exporter": "python",
   "pygments_lexer": "ipython3",
   "version": "3.7.10"
  }
 },
 "nbformat": 4,
 "nbformat_minor": 5
}
