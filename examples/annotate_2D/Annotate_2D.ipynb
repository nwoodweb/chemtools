{
 "cells": [
  {
   "cell_type": "markdown",
   "id": "415389d5",
   "metadata": {},
   "source": [
    "# 2D Annotations of Molecules \n",
    "\n",
    "## Introduction\n",
    "The goal of this project is to render a 2 dimensional molecular drawing with annotations detailing a specific feature per atom. \n",
    "\n",
    "This example \n",
    "\n",
    "## Dependencies\n",
    "1. IOData\n",
    "2. Numpy\n",
    "3. RDKit\n",
    "4. Collections\n",
    "5. CHEMML \n",
    "6. Pandas\n",
    "7. Glob \n",
    "8. OS \n"
   ]
  },
  {
   "cell_type": "code",
   "execution_count": 145,
   "id": "3744a11c",
   "metadata": {},
   "outputs": [],
   "source": [
    "# import required libraries\n",
    "from iodata import load_one, dump_one\n",
    "\n",
    "import numpy as np\n",
    "\n",
    "from rdkit import Chem\n",
    "from rdkit.Chem import AllChem\n",
    "from rdkit.Chem.rdchem import Atom\n",
    "from rdkit.Chem import Draw\n",
    "from rdkit.Chem.Draw import rdMolDraw2D\n",
    "from rdkit.Chem.Draw import MolToImage\n",
    "from rdkit.Chem import rdMolTransforms \n",
    "from rdkit.Chem import PeriodicTable\n",
    "from rdkit.Chem import rdmolfiles\n",
    "from rdkit.Chem.Draw import DrawingOptions\n",
    "\n",
    "from IPython.display import SVG\n",
    "from IPython.display import Image\n",
    "\n",
    "from collections import OrderedDict\n",
    "\n",
    "from chemml.chem import Molecule\n",
    "\n",
    "import pandas as pd\n",
    "\n",
    "import glob\n",
    "import os"
   ]
  },
  {
   "cell_type": "markdown",
   "id": "055a3b9c",
   "metadata": {},
   "source": [
    "## Manipulation of Input and Extraction of Charges \n",
    "\n",
    "We first want to open our file using IOData, designated `loadInput`, from then we can extract informations related to the `.fchk` file using IOData to annotate our molecule"
   ]
  },
  {
   "cell_type": "code",
   "execution_count": 146,
   "id": "ee68d1a9",
   "metadata": {
    "scrolled": true
   },
   "outputs": [
    {
     "name": "stdout",
     "output_type": "stream",
     "text": [
      "Molecule Name : \n",
      "dichloropyridine26_q+0\n",
      " \n"
     ]
    }
   ],
   "source": [
    "inputName = 'dichloropyridine26_q+0.fchk'\n",
    "loadInput = load_one(inputName) \n",
    "\n",
    "xyzName = 'dichloropyridine26_q+0.xyz'\n",
    "\n",
    "molName = xyzName[:-4]\n",
    "imageName = f\"{molName}.png\" \n",
    "\n",
    "print(\"Molecule Name : \")\n",
    "print(molName)\n",
    "print(\" \")\n",
    "\n"
   ]
  },
  {
   "cell_type": "markdown",
   "id": "9fb5b251",
   "metadata": {},
   "source": [
    "## Manipulate Molecule to Create MOL Object\n",
    "We need to dump our IOData loaded molecule into an `.xyz` file, which can then be parsed using `CHEMML`, to create a data table containing basic information such as filename, XYZ Cartesian Coordinates, and the SMILES equivalent of the molecule.\n",
    "\n",
    "We can then extract the SMILES string and convert into MOL Format for processing by RDKit. \n",
    "\n",
    "We can then use a series of commands `drawMolecule.*` to generate a visualization of our molecule. \n",
    "\n",
    "The below image is RDKit visualization without annotations. "
   ]
  },
  {
   "cell_type": "code",
   "execution_count": 148,
   "id": "22744f1d",
   "metadata": {},
   "outputs": [
    {
     "name": "stdout",
     "output_type": "stream",
     "text": [
      "[<chemml.chem.Molecule(\n",
      "        rdkit_molecule : <rdkit.Chem.rdchem.Mol object at 0x7f91b0ecb710>,\n",
      "        pybel_molecule : <openbabel.pybel.Molecule object at 0x7f91b0918750>,\n",
      "        creator        : ('XYZ', 'dichloropyridine26_q+0.xyz'),\n",
      "        smiles         : 'Clc1cccc(Cl)n1',\n",
      "        smarts         : None,\n",
      "        inchi          : None,\n",
      "        xyz            : <XYZ(geometry: (11, 3), atomic_numbers: (11, 1), atomic_symbols: (11, 1))>)>]\n",
      " \n",
      "\n",
      "                         Name          SMILES\n",
      "0  dichloropyridine26_q+0.xyz  Clc1cccc(Cl)n1\n",
      " \n",
      "Our Molecule in SMILES format: \n",
      "Clc1cccc(Cl)n1\n",
      " \n"
     ]
    },
    {
     "data": {
      "image/png": "[encoded data removed]",
      "text/plain": [
       "<IPython.core.display.Image object>"
      ]
     },
     "execution_count": 148,
     "metadata": {},
     "output_type": "execute_result"
    }
   ],
   "source": [
    "dump_one(loadInput,xyzName )\n",
    "xyz_files = glob.glob(xyzName)\n",
    "\n",
    "# make a list of ChemML Molecule object instances based on the names of the xyz files from xyz_files\n",
    "molecule_list = [Molecule(xyzName, input_type='xyz') for file in xyz_files]\n",
    "\n",
    "# alter the ChemML Molecule object instances of molecule_list so that their SMILES codes can be recognzied by RDKit\n",
    "for molecule in molecule_list:\n",
    "    molecule.to_smiles(kekuleSmiles=True)\n",
    "\n",
    "print(molecule_list)\n",
    "\n",
    "table = pd.DataFrame(data={'Name':xyzName,  \n",
    "                         'SMILES':[molecule.smiles for molecule in molecule_list]}, \n",
    "                   columns=['Name','SMILES'])\n",
    "\n",
    "print(\" \")\n",
    "print(\"\")\n",
    "print(table)\n",
    "\n",
    "print(\" \")\n",
    "smiles = table.iloc[0,1]\n",
    "print(\"Our Molecule in SMILES format: \")\n",
    "print(smiles)\n",
    "print(\" \")\n",
    "\n",
    "chem = Chem.MolFromSmiles(smiles)\n",
    "chemc = Chem.Mol(chem.ToBinary())\n",
    "\n",
    "def imageMolecule(chem):\n",
    "    \"\"\"\n",
    "    This function consolidates all calls done to generate the desired image\n",
    "    \"\"\"\n",
    "    drawMolecule = rdMolDraw2D.MolDraw2DCairo(300, 300)\n",
    "    rdMolDraw2D.PrepareAndDrawMolecule(drawMolecule, chemc)\n",
    "    drawMolecule.drawOptions().addStereoAnnotation = True\n",
    "    drawMolecule.DrawMolecule(chemc)\n",
    "    drawMolecule.FinishDrawing()\n",
    "    png = drawMolecule.WriteDrawingText(imageName)\n",
    "    png\n",
    "    Image(filename=imageName)\n",
    "\n",
    "imageMolecule(chem)\n",
    "png\n",
    "Image(filename=\"molecule.png\")\n"
   ]
  },
  {
   "cell_type": "code",
   "execution_count": 38,
   "id": "18c584a4",
   "metadata": {},
   "outputs": [
    {
     "name": "stdout",
     "output_type": "stream",
     "text": [
      "[('Cl', 17), ('C', 6), ('C', 6), ('C', 6), ('C', 6), ('C', 6), ('Cl', 17), ('N', 7), ('H', 1), ('H', 1), ('H', 1)]\n",
      "['Cl', 'C', 'C', 'C', 'C', 'C', 'Cl', 'N', 'H', 'H', 'H']\n"
     ]
    }
   ],
   "source": [
    "symList =[]\n",
    "atomList = []\n",
    "chem2 = Chem.AddHs(chem)\n",
    "for atom in chem2.GetAtoms():\n",
    "    step = atom.GetSymbol(),atom.GetAtomicNum()\n",
    "    symList.append(step)\n",
    "    atomList.append(atom.GetSymbol())\n",
    "print(symList)\n",
    "print(atomList)\n"
   ]
  },
  {
   "cell_type": "markdown",
   "id": "a6bf61ec",
   "metadata": {},
   "source": [
    "## Annotations\n",
    "We now want to retrieve IOData information, and add it to our visualization by appending the information to the MOL Object. \n",
    "\n",
    "In this context, we are outputting atomic number and electrostatic potential charges. \n"
   ]
  },
  {
   "cell_type": "code",
   "execution_count": 149,
   "id": "cb1be89f",
   "metadata": {},
   "outputs": [
    {
     "name": "stdout",
     "output_type": "stream",
     "text": [
      "IOData Retrieved Charges, Bulk :  \n",
      "{'mulliken': array([-0.17984029, -0.17984725,  0.05002824, -0.04091242,  2.02394948,\n",
      "        2.0239583 , -0.86473324, -0.86474131, -0.67554864, -0.64615815,\n",
      "       -0.64615473]), 'esp': array([-0.11982276, -0.11982857, -0.53824353,  0.26057369, -0.45320065,\n",
      "       -0.4532028 ,  0.49976881,  0.49977265,  0.0844758 ,  0.16985231,\n",
      "        0.16985503]), 'npa': array([ 0.01191899,  0.01191245, -0.49012581, -0.1689309 , -0.27573862,\n",
      "       -0.2757388 ,  0.21524212,  0.21524428,  0.24472353,  0.25574567,\n",
      "        0.25574709])}\n",
      " \n",
      "IOData Retrieved Atomic Numbers : \n",
      "[17, 17, 7, 6, 6, 6, 6, 6, 1, 1, 1]\n",
      " \n",
      " IOData Retrieved ESP Charges : \n",
      "[-0.11982276 -0.11982857 -0.53824353  0.26057369 -0.45320065 -0.4532028\n",
      "  0.49976881  0.49977265  0.0844758   0.16985231  0.16985503]\n",
      " \n",
      "Atoms and Numbers from RDKit\n",
      "[('Cl', 17), ('C', 6), ('C', 6), ('C', 6), ('C', 6), ('C', 6), ('Cl', 17), ('N', 7), ('H', 1), ('H', 1), ('H', 1)]\n",
      " \n",
      "2\n",
      "3\n",
      "4\n",
      "5\n",
      "6\n",
      "7\n",
      "8\n",
      "9\n",
      " \n",
      "matche list ERROR NEED DEBUG: \n",
      "[(('Cl', 17), -0.119828567), (('C', 6), 0.499772652), (('C', 6), 0.499772652), (('C', 6), 0.499772652), (('C', 6), 0.499772652), (('C', 6), -0.453200648), (('Cl', 17), -0.119828567), (('N', 7), -0.538243531), (('H', 1), 0.169855031), (('H', 1), 0.169855031), (('H', 1), 0.16985231)]\n"
     ]
    },
    {
     "data": {
      "image/png": "[encoded data removed]",
      "text/plain": [
       "<rdkit.Chem.rdchem.Mol at 0x7f91b0e6e990>"
      ]
     },
     "execution_count": 149,
     "metadata": {},
     "output_type": "execute_result"
    }
   ],
   "source": [
    "chem2 = chem\n",
    "numbers = np.ndarray.tolist(loadInput.atnums)\n",
    "\n",
    "print(\"IOData Retrieved Charges, Bulk :  \")\n",
    "chargeDict = (loadInput.atcharges)\n",
    "print(chargeDict)\n",
    "\n",
    "espCharges = (chargeDict['esp'][:])\n",
    "print(\" \")\n",
    "print(\"IOData Retrieved Atomic Numbers : \")\n",
    "print(numbers)\n",
    "\n",
    "print(\" \")\n",
    "print(\" IOData Retrieved ESP Charges : \")\n",
    "print(espCharges)\n",
    "print(\" \")\n",
    "\n",
    "print(\"Atoms and Numbers from RDKit\")\n",
    "print(symList)\n",
    "matchedList=[]\n",
    "\n",
    "\n",
    "\n",
    "def matchListCharges():\n",
    "    \"\"\"\n",
    "    this is meant to address the discrepancy between the way IOData will list atomic nums and charges,\n",
    "    and how RDKit will list and render to image\n",
    "    \n",
    "    First we iterate through our RDKit list of chemical symbols:\n",
    "        test = symbol\n",
    "        then we iterate through our loadInput.atcharges['esp'][:]:\n",
    "            where symbol[1] the corresponding RDKit atomic number, matches the IOData atomic number: \n",
    "                test2 = corresponding charge \n",
    "        step = test,test2 together in ordered pair style format\n",
    "        append step to matchedList and return \n",
    "    \n",
    "    \"\"\"\n",
    "    counter = 1\n",
    "    for i,value in enumerate(symList): \n",
    "        test = value\n",
    "        for k,charge in enumerate(espCharges):\n",
    "            if value[1] == numbers[k]: # value[1] = atomic number from RDKIT numbers[k] == atomnum IOData\n",
    "                test2 = espCharges[k]\n",
    "                if numbers[i-2] == numbers[k]:\n",
    "                    counter +=1\n",
    "                    test2=espCharges[i-1]\n",
    "                    print(counter)\n",
    "        step = test,test2\n",
    "        matchedList.append(step)\n",
    "        \n",
    "print(\" \")\n",
    "matchListCharges()\n",
    "print(\" \")\n",
    "print(\"matche list ERROR NEED DEBUG: \")\n",
    "print(matchedList[:])\n",
    "\n",
    "\n",
    "\n",
    "for i, atom in enumerate(chem2.GetAtoms()):\n",
    "    atom.SetProp(\"atomNote\", f\"{matchedList[i][1]}\")\n",
    "\n",
    "chem2\n"
   ]
  },
  {
   "cell_type": "code",
   "execution_count": null,
   "id": "1593459e",
   "metadata": {},
   "outputs": [],
   "source": []
  },
  {
   "cell_type": "code",
   "execution_count": 92,
   "id": "5ec5be3a",
   "metadata": {},
   "outputs": [
    {
     "name": "stdout",
     "output_type": "stream",
     "text": [
      "[('Cl', 17), ('C', 6), ('C', 6), ('C', 6), ('C', 6), ('C', 6), ('Cl', 17), ('N', 7), ('H', 1), ('H', 1), ('H', 1)]\n",
      " \n",
      "-0.119822758\n",
      "-0.119828567\n",
      "0.260573695\n",
      "-0.453200648\n",
      "-0.4532028\n",
      "0.499768812\n",
      "0.499772652\n",
      "0.260573695\n",
      "-0.453200648\n",
      "-0.4532028\n",
      "0.499768812\n",
      "0.499772652\n",
      "0.260573695\n",
      "-0.453200648\n",
      "-0.4532028\n",
      "0.499768812\n",
      "0.499772652\n",
      "0.260573695\n",
      "-0.453200648\n",
      "-0.4532028\n",
      "0.499768812\n",
      "0.499772652\n",
      "0.260573695\n",
      "-0.453200648\n",
      "-0.4532028\n",
      "0.499768812\n",
      "0.499772652\n",
      "-0.119822758\n",
      "-0.119828567\n",
      "-0.538243531\n",
      "0.0844758043\n",
      "0.16985231\n",
      "0.169855031\n",
      "0.0844758043\n",
      "0.16985231\n",
      "0.169855031\n",
      "0.0844758043\n",
      "0.16985231\n",
      "0.169855031\n",
      " \n",
      "matche list ERROR NEED DEBUG: \n",
      "[(('Cl', 17), -0.119828567), (('C', 6), 0.499772652), (('C', 6), 0.499772652), (('C', 6), 0.499772652), (('C', 6), 0.499772652), (('C', 6), 0.499772652), (('Cl', 17), -0.119828567), (('N', 7), -0.538243531), (('H', 1), 0.169855031), (('H', 1), 0.169855031), (('H', 1), 0.169855031)]\n"
     ]
    }
   ],
   "source": [
    "print(symList)\n",
    "matchedList=[]\n",
    "def matchListCharges():\n",
    "    for i,value in enumerate(symList): \n",
    "        test = value\n",
    "        for k,charge in enumerate(espCharges):\n",
    "            if value[1] == numbers[k]:\n",
    "                test2 = espCharges[k]\n",
    "                print(test2) #DEBUG REMOVE LATER\n",
    "        step = test,test2\n",
    "        matchedList.append(step)\n",
    "print(\" \")\n",
    "matchListCharges()\n",
    "print(\" \")\n",
    "print(\"matche list ERROR NEED DEBUG: \")\n",
    "print(matchedList)\n"
   ]
  },
  {
   "cell_type": "code",
   "execution_count": null,
   "id": "b7247b2a",
   "metadata": {},
   "outputs": [],
   "source": []
  },
  {
   "cell_type": "code",
   "execution_count": null,
   "id": "f1d740fc",
   "metadata": {},
   "outputs": [],
   "source": []
  },
  {
   "cell_type": "code",
   "execution_count": null,
   "id": "9d4c4405",
   "metadata": {},
   "outputs": [],
   "source": []
  }
 ],
 "metadata": {
  "kernelspec": {
   "display_name": "Python [conda env:.conda-chemml_env] *",
   "language": "python",
   "name": "conda-env-.conda-chemml_env-py"
  },
  "language_info": {
   "codemirror_mode": {
    "name": "ipython",
    "version": 3
   },
   "file_extension": ".py",
   "mimetype": "text/x-python",
   "name": "python",
   "nbconvert_exporter": "python",
   "pygments_lexer": "ipython3",
   "version": "3.7.10"
  }
 },
 "nbformat": 4,
 "nbformat_minor": 5
}
