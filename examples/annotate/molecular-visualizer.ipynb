{
 "cells": [
  {
   "cell_type": "markdown",
   "id": "8abf6019",
   "metadata": {},
   "source": [
    "# Visualizing Molecules Within a Jupyter Notebook\n",
    "\n",
    "The following code has been created for the purpose of visualizing molecules within a Jupyter notebook. In essence, this notebook functions by reading xyz files, converting their contents into a SMILES code with the `ChemML` library, interpreting these SMILES codes as 2D molecular structures with the `RDKit` library, and visualizing the molecules in a grid. There are two main sections for visualization, based on the combinations of the main libraries implemented in each:\n",
    "\n",
    "- Section I - Visualization With RDKit\n",
    "- Section II - Visualization With RDKit and mols2grid\n",
    "\n",
    "Regardless of which section you'd like to access, there are some preliminary things that need to be set up, which are covered in the *Prerequisites* section.\n",
    "\n",
    "# Prerequisites\n",
    "\n",
    "In this section, all of the required libraries for the notebook's functioning are imported, and all necessary variables are established with appropriate data. First, you'll do the former:"
   ]
  },
  {
   "cell_type": "code",
   "execution_count": null,
   "id": "e723a30d",
   "metadata": {},
   "outputs": [],
   "source": [
    "# import required libraries\n",
    "import rdkit\n",
    "from rdkit import Chem\n",
    "from rdkit.Chem import Draw\n",
    "from chemml.chem import Molecule\n",
    "import mols2grid\n",
    "import pandas as pd\n",
    "import glob\n",
    "import os"
   ]
  },
  {
   "cell_type": "markdown",
   "id": "2df93dd0",
   "metadata": {},
   "source": [
    "### Relevant Documentations:\n",
    " - [RDKit](http://www.rdkit.org/docs/)\n",
    " - [ChemML](https://hachmannlab.github.io/chemml)\n",
    " - [mols2grid](https://github.com/cbouy/mols2grid)\n",
    " - [pandas](https://pandas.pydata.org/docs/)\n",
    " - [glob](https://docs.python.org/3/library/glob.html)\n",
    " - [os](https://docs.python.org/3/library/os.html)"
   ]
  },
  {
   "cell_type": "markdown",
   "id": "593076d4",
   "metadata": {},
   "source": [
    "The `Molecule` class from the`ChemML` library can support as of now only smiles, smarts, inchi, and xyz file formats, according to the `ChemML` documentation. Note, however, that this notebook only makes use of the latter. For further reading, see the ChemML documentation from the list of relevant documentations above.\n",
    "\n",
    "Next, you need to specify the path to the xyz files you'd like to visualize. This should be done in the input below in place of `FILE_PATH`. An example of this input looks as follows:\n",
    "\n",
    "`xyz_files = glob.glob('/Users/johnsmith/Desktop/structures/*.xyz')`\n",
    "\n",
    "**Note**: It will be easiest to identify your molecules within your grid if your xyz files have sensible names. This is due to how names of the molecules are defined within this notebook, which is by taking the name of the file and cutting off the \".xyz\" extension from it. For example, \"101_IndolebenzeneTshapecomplex.xyz\" will be named \"101_IndolebenzeneTshapecomplex\" in the grids generated. Thus, try not to have your files named like \"C46H65N15O12S2.xyz\" or anything else nonsensical to you or a third-party reader."
   ]
  },
  {
   "cell_type": "code",
   "execution_count": null,
   "id": "eb0831b1",
   "metadata": {},
   "outputs": [],
   "source": [
    "# get names of all .xyz files in desired directory\n",
    "xyz_files = glob.glob('FILE_PATH')\n",
    "if not xyz_files:\n",
    "    raise Warning('''Couldn't find any xyz files via the specified path''')"
   ]
  },
  {
   "cell_type": "markdown",
   "id": "ee5371ab",
   "metadata": {},
   "source": [
    "For the last part of this section, you're going to initialize all the variables you need to use Section I and/or Section II for visualizing your molecules."
   ]
  },
  {
   "cell_type": "code",
   "execution_count": null,
   "id": "1ce5435d",
   "metadata": {},
   "outputs": [],
   "source": [
    "# create names for the molecules based on their file names in xyz_files\n",
    "xyz_names = [os.path.basename(item)[:-4] for item in xyz_files]\n",
    "\n",
    "# make a list of ChemML Molecule object instances based on the names of the xyz files from xyz_files\n",
    "molecule_list = [Molecule(file, input_type='xyz') for file in xyz_files]\n",
    "\n",
    "# alter the ChemML Molecule object instances of molecule_list so that their SMILES codes can be recognzied by RDKit\n",
    "for molecule in molecule_list:\n",
    "    molecule.to_smiles(kekuleSmiles=True)\n",
    "\n",
    "# make a list of visual representations of the molecules in molecule_list using RDKit functionality\n",
    "drawing_list = [Chem.MolFromSmiles(molecule.smiles) for molecule in molecule_list]\n",
    "\n",
    "# create a pandas dataframe containing molecule names in one column (\"Name\") and SMILES codes (\"SMILES\") in the other\n",
    "table = pd.DataFrame(data={'Name':xyz_names, \n",
    "                         'SMILES':[molecule.smiles for molecule in molecule_list]}, \n",
    "                   columns=['Name','SMILES'])"
   ]
  },
  {
   "cell_type": "markdown",
   "id": "ae9a5c78",
   "metadata": {},
   "source": [
    "At this point, you're set to move on to either (or both) Sections I and II."
   ]
  },
  {
   "cell_type": "markdown",
   "id": "25ac1922",
   "metadata": {},
   "source": [
    "# Section I - Visualization With RDKit\n",
    "\n",
    "This section can be used for two things:\n",
    "\n",
    "1. Visualizing a relatively rudimentary grid of 2D molecules based on the contents of your xyz files.\n",
    "2. Saving this grid as an image."
   ]
  },
  {
   "cell_type": "code",
   "execution_count": null,
   "id": "efcbe3b5",
   "metadata": {},
   "outputs": [],
   "source": [
    "# define the grid of molecules with drawing_list, the number of molecules per row, the image sizes, and the legend \n",
    "# of names of the molecules\n",
    "grid = Draw.MolsToGridImage(drawing_list,\n",
    "                          molsPerRow=4, \n",
    "                          subImgSize=(290,425), \n",
    "                          legends=xyz_names, \n",
    "                          returnPNG=False)\n",
    "\n",
    "# display the grid\n",
    "grid"
   ]
  },
  {
   "cell_type": "markdown",
   "id": "7b7e329b",
   "metadata": {},
   "source": [
    "**Note**: If the stuctures and/or their names in the grid above aren't spaced as you'd like them, you can likely resolve this by changing the dimensions specified by `subIMGSize=( , )` when initializing the `grid` variable.\n",
    "\n",
    "In the input below, you can save the grid above as a .png file within the same directory you're currently working in. To do this, you should specify a name for this file in place of `IMG_NAME` in your input (if you don't, the file will be saved as \"IMG_NAME.png\"). **Note that the file extension must be specified by `.png`**. An example input could look like:\n",
    "\n",
    "`grid.save('grid_of_molecules.png')`\n",
    "\n",
    "If you don't wish to save this grid as an image, you can simply skip over the following input."
   ]
  },
  {
   "cell_type": "code",
   "execution_count": null,
   "id": "33038afb",
   "metadata": {},
   "outputs": [],
   "source": [
    "# save the grid as an image\n",
    "grid.save('IMG_NAME.png')"
   ]
  },
  {
   "cell_type": "markdown",
   "id": "ef568653",
   "metadata": {},
   "source": [
    "# Section II - Visualization With RDKit and mols2grid\n",
    "\n",
    "This section is similar to Section I, though its function differs in two main ways:\n",
    "\n",
    "1. The potential amount of chemical information that can be accessed via your grid is increased. By hovering your cursor over the grid generated, an additional window will be displayed, which can be customized to include more information about your molecule, such as its pH or relative density. The amount of information displayed can be controlled by altering the `tooltip` parameter in the input below. In this version of the notebook however, only the name of the molecule can be displayed, so don't alter this parameter for now.\n",
    "2. The grid generated in this section cannot currently be saved as an image."
   ]
  },
  {
   "cell_type": "code",
   "execution_count": null,
   "id": "03304c9a",
   "metadata": {},
   "outputs": [],
   "source": [
    "# display the grid of molecules based on \"tables\" pandas dataframe using mols2grid library\n",
    "mols2grid.display(table, \n",
    "                  smiles_col='SMILES', \n",
    "                  size=(200, 200), \n",
    "                  subset=['Name', 'img'], \n",
    "                  n_cols=4, \n",
    "                  tooltip=['Name'], \n",
    "                  template='table')"
   ]
  }
 ],
 "metadata": {
  "kernelspec": {
   "display_name": "Python 3",
   "language": "python",
   "name": "python3"
  },
  "language_info": {
   "codemirror_mode": {
    "name": "ipython",
    "version": 3
   },
   "file_extension": ".py",
   "mimetype": "text/x-python",
   "name": "python",
   "nbconvert_exporter": "python",
   "pygments_lexer": "ipython3",
   "version": "3.9.5"
  }
 },
 "nbformat": 4,
 "nbformat_minor": 5
}
