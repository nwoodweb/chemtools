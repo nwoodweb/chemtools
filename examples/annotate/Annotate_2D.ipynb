{
 "cells": [
  {
   "cell_type": "code",
   "execution_count": null,
   "id": "d2cc070f",
   "metadata": {},
   "outputs": [],
   "source": []
  },
  {
   "cell_type": "code",
   "execution_count": 30,
   "id": "3744a11c",
   "metadata": {},
   "outputs": [],
   "source": [
    "# import required libraries\n",
    "from iodata import load_one, dump_one\n",
    "\n",
    "import numpy as np\n",
    "\n",
    "from rdkit import Chem\n",
    "from rdkit.Chem import AllChem \n",
    "from rdkit.Chem import Draw\n",
    "from rdkit.Chem.Draw import rdMolDraw2D\n",
    "from rdkit.Chem.Draw import MolToImage\n",
    "from rdkit.Chem import rdMolTransforms \n",
    "from rdkit.Chem import PeriodicTable\n",
    "from rdkit.Chem import rdmolfiles\n",
    "from rdkit.Chem.Draw import DrawingOptions\n",
    "\n",
    "from IPython.display import SVG\n",
    "from IPython.display import Image\n",
    "\n",
    "from chemml.chem import Molecule\n",
    "\n",
    "import pandas as pd\n",
    "\n",
    "import glob\n",
    "import os"
   ]
  },
  {
   "cell_type": "code",
   "execution_count": null,
   "id": "ba274774",
   "metadata": {},
   "outputs": [],
   "source": []
  },
  {
   "cell_type": "code",
   "execution_count": 31,
   "id": "ee68d1a9",
   "metadata": {
    "scrolled": true
   },
   "outputs": [
    {
     "name": "stdout",
     "output_type": "stream",
     "text": [
      "Molecule Name : \n",
      "dichloropyridine26_q+0\n",
      " \n",
      "Atomic Charges : \n",
      "          0                                                  1\n",
      "0  mulliken  [-0.179840292, -0.179847249, 0.0500282381, -0....\n",
      "1       esp  [-0.119822758, -0.119828567, -0.538243531, 0.2...\n",
      "2       npa  [0.0119189886, 0.0119124524, -0.490125807, -0....\n",
      " \n",
      "Charges, ESP : \n",
      "[-0.11982276 -0.11982857 -0.53824353  0.26057369 -0.45320065 -0.4532028\n",
      "  0.49976881  0.49977265  0.0844758   0.16985231  0.16985503]\n",
      " \n",
      "Atomic Numbers : \n",
      "[17 17  7  6  6  6  6  6  1  1  1]\n"
     ]
    }
   ],
   "source": [
    "inputName = 'dichloropyridine26_q+0.fchk'\n",
    "xyzName = 'dichloropyridine26_q+0.xyz'\n",
    "molName = xyzName[:-4]\n",
    "print(\"Molecule Name : \")\n",
    "print(molName)\n",
    "print(\" \")\n",
    "\n",
    "loadInput = load_one(inputName) \n",
    "\n",
    "q = pd.DataFrame.from_dict(loadInput.atcharges.items())\n",
    "print(\"Atomic Charges : \")\n",
    "print(q)\n",
    "print(\" \")\n",
    "\n",
    "espCharges = q.iloc[1,1]\n",
    "print(\"Charges, ESP : \")\n",
    "print(espCharges)\n",
    "print(\" \")\n",
    "\n",
    "atomicNumbers = loadInput.atnums\n",
    "print(\"Atomic Numbers : \")\n",
    "print(atomicNumbers)\n"
   ]
  },
  {
   "cell_type": "code",
   "execution_count": null,
   "id": "18bbc46d",
   "metadata": {},
   "outputs": [],
   "source": []
  },
  {
   "cell_type": "code",
   "execution_count": 65,
   "id": "57a9fcac",
   "metadata": {},
   "outputs": [
    {
     "name": "stdout",
     "output_type": "stream",
     "text": [
      "[17, 17, 7, 6, 6, 6, 6, 6, 1, 1, 1]\n",
      "[-0.119822758, -0.119828567, -0.538243531, 0.260573695, -0.453200648, -0.4532028, 0.499768812, 0.499772652, 0.0844758043, 0.16985231, 0.169855031]\n",
      "{17: -0.1198, 7: -0.5382, 6: 0.4998, 1: 0.1699}\n"
     ]
    }
   ],
   "source": [
    "listAtomicNumbers = np.ndarray.tolist(atomicNumbers)\n",
    "print(listAtomicNumbers)\n",
    "\n",
    "listChargesESP = np.ndarray.tolist(espCharges)\n",
    "print(listChargesESP)\n",
    "\n",
    "atomChargeDict = {}\n",
    "\n",
    "for key in listAtomicNumbers: \n",
    "    for value in listChargesESP: \n",
    "        atomChargeDict[key] = np.round(float(value),4)\n",
    "        listChargesESP.remove(value)\n",
    "        \n",
    "        break\n",
    "print(atomChargeDict)\n"
   ]
  },
  {
   "cell_type": "code",
   "execution_count": null,
   "id": "0299c74d",
   "metadata": {},
   "outputs": [],
   "source": []
  },
  {
   "cell_type": "code",
   "execution_count": 33,
   "id": "22744f1d",
   "metadata": {},
   "outputs": [
    {
     "name": "stdout",
     "output_type": "stream",
     "text": [
      "[<chemml.chem.Molecule(\n",
      "        rdkit_molecule : <rdkit.Chem.rdchem.Mol object at 0x7ff4017e8d00>,\n",
      "        pybel_molecule : <openbabel.pybel.Molecule object at 0x7ff4016f54d0>,\n",
      "        creator        : ('XYZ', 'dichloropyridine26_q+0.xyz'),\n",
      "        smiles         : 'Clc1cccc(Cl)n1',\n",
      "        smarts         : None,\n",
      "        inchi          : None,\n",
      "        xyz            : <XYZ(geometry: (11, 3), atomic_numbers: (11, 1), atomic_symbols: (11, 1))>)>]\n",
      " \n",
      "\n",
      "                         Name          SMILES\n",
      "0  dichloropyridine26_q+0.xyz  Clc1cccc(Cl)n1\n",
      " \n",
      "Our Molecule in SMILES format: \n",
      "Clc1cccc(Cl)n1\n",
      " \n"
     ]
    },
    {
     "data": {
      "image/png": "[encoded data removed]",
      "text/plain": [
       "<IPython.core.display.Image object>"
      ]
     },
     "execution_count": 33,
     "metadata": {},
     "output_type": "execute_result"
    }
   ],
   "source": [
    "dump_one(loadInput,xyzName )\n",
    "xyz_files = glob.glob(xyzName)\n",
    "\n",
    "# make a list of ChemML Molecule object instances based on the names of the xyz files from xyz_files\n",
    "molecule_list = [Molecule(xyzName, input_type='xyz') for file in xyz_files]\n",
    "\n",
    "# alter the ChemML Molecule object instances of molecule_list so that their SMILES codes can be recognzied by RDKit\n",
    "for molecule in molecule_list:\n",
    "    molecule.to_smiles(kekuleSmiles=True)\n",
    "\n",
    "print(molecule_list)\n",
    "\n",
    "table = pd.DataFrame(data={'Name':xyzName,  \n",
    "                         'SMILES':[molecule.smiles for molecule in molecule_list]}, \n",
    "                   columns=['Name','SMILES'])\n",
    "\n",
    "print(\" \")\n",
    "print(\"\")\n",
    "print(table)\n",
    "\n",
    "print(\" \")\n",
    "smiles = table.iloc[0,1]\n",
    "print(\"Our Molecule in SMILES format: \")\n",
    "print(smiles)\n",
    "print(\" \")\n",
    "\n",
    "chem = Chem.MolFromSmiles(smiles)\n",
    "chemc = Chem.Mol(chem.ToBinary())\n",
    "for atom in chem.GetAtoms():\n",
    "    # For each atom, set the property \"atomNote\" to a index+1 of the atom\n",
    "    atom.SetProp(\"atomNote\", str(atom.GetIdx()+1))\n",
    "drawMolecule = rdMolDraw2D.MolDraw2DCairo(500, 500)\n",
    "rdMolDraw2D.PrepareAndDrawMolecule(drawMolecule, chemc)\n",
    "drawMolecule.drawOptions().addStereoAnnotation = True\n",
    "#drawMolecule.drawOptions().addAtomIndices = True\n",
    "#drawMolecule.drawOptions().addBondIndices = True\n",
    "drawMolecule.DrawMolecule(chemc)\n",
    "drawMolecule.FinishDrawing()\n",
    "png = drawMolecule.WriteDrawingText('molecule.png')\n",
    "png\n",
    "\n",
    "Image(filename=\"molecule.png\")\n",
    "\n",
    "\n"
   ]
  },
  {
   "cell_type": "code",
   "execution_count": 79,
   "id": "cb1be89f",
   "metadata": {},
   "outputs": [
    {
     "ename": "SyntaxError",
     "evalue": "invalid syntax (<ipython-input-79-19266debb693>, line 7)",
     "output_type": "error",
     "traceback": [
      "\u001b[0;36m  File \u001b[0;32m\"<ipython-input-79-19266debb693>\"\u001b[0;36m, line \u001b[0;32m7\u001b[0m\n\u001b[0;31m    atom.SetProp(\"atomNote\", f{listAtomicNumbers[i],listChargesESP[i]})\u001b[0m\n\u001b[0m                              ^\u001b[0m\n\u001b[0;31mSyntaxError\u001b[0m\u001b[0;31m:\u001b[0m invalid syntax\n"
     ]
    }
   ],
   "source": [
    "chem2 = Chem.MolFromSmiles(smiles)\n",
    "#listChargesESP = np.ndarray.tolist(espCharges)\n",
    "\n",
    "i = len(chem2.GetAtoms())\n",
    "print(listChargesESP)\n",
    "for i, atom in enumerate(chem2.GetAtoms()):\n",
    "     atom.SetProp(\"atomNote\", f\"{listAtomicNumbers[i],listChargesESP[i]})    \n",
    "        \n",
    "chem2"
   ]
  },
  {
   "cell_type": "code",
   "execution_count": null,
   "id": "111db663",
   "metadata": {},
   "outputs": [],
   "source": []
  },
  {
   "cell_type": "code",
   "execution_count": null,
   "id": "3c08b4cd",
   "metadata": {},
   "outputs": [],
   "source": []
  }
 ],
 "metadata": {
  "kernelspec": {
   "display_name": "Python [conda env:.conda-chemml_env] *",
   "language": "python",
   "name": "conda-env-.conda-chemml_env-py"
  },
  "language_info": {
   "codemirror_mode": {
    "name": "ipython",
    "version": 3
   },
   "file_extension": ".py",
   "mimetype": "text/x-python",
   "name": "python",
   "nbconvert_exporter": "python",
   "pygments_lexer": "ipython3",
   "version": "3.7.10"
  }
 },
 "nbformat": 4,
 "nbformat_minor": 5
}
