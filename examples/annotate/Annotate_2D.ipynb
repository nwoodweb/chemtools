{
 "cells": [
  {
   "cell_type": "markdown",
   "id": "415389d5",
   "metadata": {},
   "source": [
    "# 2D Annotations of Molecules \n",
    "\n",
    "## Introduction\n",
    "\n",
    "## Dependencies"
   ]
  },
  {
   "cell_type": "code",
   "execution_count": 1,
   "id": "3744a11c",
   "metadata": {},
   "outputs": [],
   "source": [
    "# import required libraries\n",
    "from iodata import load_one, dump_one\n",
    "\n",
    "import numpy as np\n",
    "\n",
    "from rdkit import Chem\n",
    "from rdkit.Chem import AllChem \n",
    "from rdkit.Chem import Draw\n",
    "from rdkit.Chem.Draw import rdMolDraw2D\n",
    "from rdkit.Chem.Draw import MolToImage\n",
    "from rdkit.Chem import rdMolTransforms \n",
    "from rdkit.Chem import PeriodicTable\n",
    "from rdkit.Chem import rdmolfiles\n",
    "from rdkit.Chem.Draw import DrawingOptions\n",
    "\n",
    "from IPython.display import SVG\n",
    "from IPython.display import Image\n",
    "\n",
    "from collections import OrderedDict\n",
    "\n",
    "from chemml.chem import Molecule\n",
    "\n",
    "import pandas as pd\n",
    "\n",
    "import glob\n",
    "import os"
   ]
  },
  {
   "cell_type": "markdown",
   "id": "055a3b9c",
   "metadata": {},
   "source": [
    "## Manipulation of Input and Extraction of Charges "
   ]
  },
  {
   "cell_type": "code",
   "execution_count": 2,
   "id": "ee68d1a9",
   "metadata": {
    "scrolled": true
   },
   "outputs": [
    {
     "name": "stdout",
     "output_type": "stream",
     "text": [
      "Molecule Name : \n",
      "dichloropyridine26_q+0\n",
      " \n",
      "{'mulliken': array([-0.17984029, -0.17984725,  0.05002824, -0.04091242,  2.02394948,\n",
      "        2.0239583 , -0.86473324, -0.86474131, -0.67554864, -0.64615815,\n",
      "       -0.64615473]), 'esp': array([-0.11982276, -0.11982857, -0.53824353,  0.26057369, -0.45320065,\n",
      "       -0.4532028 ,  0.49976881,  0.49977265,  0.0844758 ,  0.16985231,\n",
      "        0.16985503]), 'npa': array([ 0.01191899,  0.01191245, -0.49012581, -0.1689309 , -0.27573862,\n",
      "       -0.2757388 ,  0.21524212,  0.21524428,  0.24472353,  0.25574567,\n",
      "        0.25574709])}\n",
      "[-0.11982276 -0.11982857 -0.53824353  0.26057369 -0.45320065 -0.4532028\n",
      "  0.49976881  0.49977265  0.0844758   0.16985231  0.16985503]\n"
     ]
    }
   ],
   "source": [
    "inputName = 'dichloropyridine26_q+0.fchk'\n",
    "xyzName = 'dichloropyridine26_q+0.xyz'\n",
    "molName = xyzName[:-4]\n",
    "print(\"Molecule Name : \")\n",
    "print(molName)\n",
    "print(\" \")\n",
    "\n",
    "loadInput = load_one(inputName) \n",
    "numbers = np.ndarray.tolist(loadInput.atnums)\n",
    "chargeDict = (loadInput.atcharges)\n",
    "print(chargeDict)\n",
    "espCharges = (chargeDict['esp'][:])\n",
    "print(espCharges)\n",
    "\n"
   ]
  },
  {
   "cell_type": "markdown",
   "id": "9fb5b251",
   "metadata": {},
   "source": [
    "## Manipualt"
   ]
  },
  {
   "cell_type": "code",
   "execution_count": 3,
   "id": "22744f1d",
   "metadata": {},
   "outputs": [
    {
     "name": "stdout",
     "output_type": "stream",
     "text": [
      "[<chemml.chem.Molecule(\n",
      "        rdkit_molecule : <rdkit.Chem.rdchem.Mol object at 0x7fca34180760>,\n",
      "        pybel_molecule : <openbabel.pybel.Molecule object at 0x7fca34177750>,\n",
      "        creator        : ('XYZ', 'dichloropyridine26_q+0.xyz'),\n",
      "        smiles         : 'Clc1cccc(Cl)n1',\n",
      "        smarts         : None,\n",
      "        inchi          : None,\n",
      "        xyz            : <XYZ(geometry: (11, 3), atomic_numbers: (11, 1), atomic_symbols: (11, 1))>)>]\n",
      " \n",
      "\n",
      "                         Name          SMILES\n",
      "0  dichloropyridine26_q+0.xyz  Clc1cccc(Cl)n1\n",
      " \n",
      "Our Molecule in SMILES format: \n",
      "Clc1cccc(Cl)n1\n",
      " \n"
     ]
    },
    {
     "data": {
      "image/png": "[encoded data removed]",
      "text/plain": [
       "<IPython.core.display.Image object>"
      ]
     },
     "execution_count": 3,
     "metadata": {},
     "output_type": "execute_result"
    }
   ],
   "source": [
    "dump_one(loadInput,xyzName )\n",
    "xyz_files = glob.glob(xyzName)\n",
    "\n",
    "# make a list of ChemML Molecule object instances based on the names of the xyz files from xyz_files\n",
    "molecule_list = [Molecule(xyzName, input_type='xyz') for file in xyz_files]\n",
    "\n",
    "# alter the ChemML Molecule object instances of molecule_list so that their SMILES codes can be recognzied by RDKit\n",
    "for molecule in molecule_list:\n",
    "    molecule.to_smiles(kekuleSmiles=True)\n",
    "\n",
    "print(molecule_list)\n",
    "\n",
    "table = pd.DataFrame(data={'Name':xyzName,  \n",
    "                         'SMILES':[molecule.smiles for molecule in molecule_list]}, \n",
    "                   columns=['Name','SMILES'])\n",
    "\n",
    "print(\" \")\n",
    "print(\"\")\n",
    "print(table)\n",
    "\n",
    "print(\" \")\n",
    "smiles = table.iloc[0,1]\n",
    "print(\"Our Molecule in SMILES format: \")\n",
    "print(smiles)\n",
    "print(\" \")\n",
    "\n",
    "chem = Chem.MolFromSmiles(smiles)\n",
    "chemc = Chem.Mol(chem.ToBinary())\n",
    "\n",
    "drawMolecule = rdMolDraw2D.MolDraw2DCairo(300, 300)\n",
    "rdMolDraw2D.PrepareAndDrawMolecule(drawMolecule, chemc)\n",
    "drawMolecule.drawOptions().addStereoAnnotation = True\n",
    "#drawMolecule.drawOptions().addAtomIndices = True\n",
    "#drawMolecule.drawOptions().addBondIndices = True\n",
    "drawMolecule.DrawMolecule(chemc)\n",
    "drawMolecule.FinishDrawing()\n",
    "png = drawMolecule.WriteDrawingText('molecule.png')\n",
    "png\n",
    "\n",
    "Image(filename=\"molecule.png\")\n",
    "\n",
    "\n"
   ]
  },
  {
   "cell_type": "code",
   "execution_count": 9,
   "id": "cb1be89f",
   "metadata": {},
   "outputs": [
    {
     "name": "stdout",
     "output_type": "stream",
     "text": [
      "[17, 17, 7, 6, 6, 6, 6, 6, 1, 1, 1]\n",
      "\n",
      "[-0.11982276 -0.11982857 -0.53824353  0.26057369 -0.45320065 -0.4532028\n",
      "  0.49976881  0.49977265  0.0844758   0.16985231  0.16985503]\n",
      "test\n",
      "7\n"
     ]
    },
    {
     "data": {
      "image/png": "[encoded data removed]",
      "text/plain": [
       "<rdkit.Chem.rdchem.Mol at 0x7fca34135d50>"
      ]
     },
     "execution_count": 9,
     "metadata": {},
     "output_type": "execute_result"
    }
   ],
   "source": [
    "chem2 = Chem.MolFromSmiles(smiles)\n",
    "#listChargesESP = np.ndarray.tolist(espCharges)\n",
    "        \n",
    "print(numbers)\n",
    "print()\n",
    "print(espCharges)\n",
    "\n",
    "for i, atom in enumerate(chem2.GetAtoms()):\n",
    "   #atom.SetProp(\"atomNote\",f\"{espCharges[i]}\")\n",
    "    if atom.GetAtomicNum() == 7:\n",
    "        print('test')\n",
    "        print(atom.GetAtomicNum())\n",
    "        atom.SetProp(\"atomNote\", f\"{np.round(float(espCharges[i]),3)}\")    \n",
    "chem2\n",
    "\n",
    "\n"
   ]
  },
  {
   "cell_type": "code",
   "execution_count": null,
   "id": "111db663",
   "metadata": {},
   "outputs": [],
   "source": []
  },
  {
   "cell_type": "code",
   "execution_count": null,
   "id": "1432506b",
   "metadata": {},
   "outputs": [],
   "source": [
    "'''\n",
    "\n",
    "for item in loadInput.atcharges[\"esp\"]:\n",
    "    key = loadInput.atnums\n",
    "    listCharge = item\n",
    "    print(listCharge)\n",
    "    \n",
    "for number in loadInput.atnums: \n",
    "    print(number)\n",
    "    \n",
    "\n",
    "q = pd.DataFrame.from_dict(loadInput.atcharges.items())\n",
    "print(\"Atomic Charges : \")\n",
    "print(q)\n",
    "print(\" \")\n",
    "\n",
    "espCharges = q.iloc[1,1]\n",
    "print(\"Charges, ESP : \")\n",
    "print(espCharges)\n",
    "print(\" \")\n",
    "\n",
    "atomicNumbers = loadInput.atnums\n",
    "print(\"Atomic Numbers : \")\n",
    "print(atomicNumbers)\n",
    "'''\n",
    "\n",
    "'''\n",
    "listAtomicNumbers = np.ndarray.tolist(atomicNumbers)\n",
    "print(listAtomicNumbers)\n",
    "\n",
    "listChargesESP = np.ndarray.tolist(espCharges)\n",
    "print(listChargesESP)\n",
    "\n",
    "atomChargeDict = {}\n",
    "\n",
    "for key in listAtomicNumbers: \n",
    "    for value in listChargesESP: \n",
    "        atomChargeDict[key] = np.round(float(value),4)\n",
    "        listChargesESP.remove(value)\n",
    "        break\n",
    "print(atomChargeDict)\n",
    "'''\n"
   ]
  },
  {
   "cell_type": "code",
   "execution_count": null,
   "id": "8a5c1c12",
   "metadata": {},
   "outputs": [],
   "source": []
  }
 ],
 "metadata": {
  "kernelspec": {
   "display_name": "Python [conda env:.conda-chemml_env] *",
   "language": "python",
   "name": "conda-env-.conda-chemml_env-py"
  },
  "language_info": {
   "codemirror_mode": {
    "name": "ipython",
    "version": 3
   },
   "file_extension": ".py",
   "mimetype": "text/x-python",
   "name": "python",
   "nbconvert_exporter": "python",
   "pygments_lexer": "ipython3",
   "version": "3.7.10"
  }
 },
 "nbformat": 4,
 "nbformat_minor": 5
}
