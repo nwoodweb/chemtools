{
 "cells": [
  {
   "cell_type": "code",
   "execution_count": 110,
   "id": "2383906c",
   "metadata": {},
   "outputs": [],
   "source": [
    "import numpy \n",
    "import sys,os\n",
    "\n",
    "from iodata import load_one, dump_one \n",
    "from iodata import iodata\n",
    "\n",
    "from rdkit import Chem\n",
    "from rdkit.Chem import AllChem \n",
    "from rdkit.Chem import Draw\n",
    "from rdkit.Chem.Draw import rdMolDraw2D\n",
    "from rdkit.Chem import rdMolTransforms \n",
    "from rdkit.Chem import PeriodicTable\n",
    "from rdkit.Chem.Draw import DrawingOptions\n",
    "\n",
    "from IPython.display import Image\n"
   ]
  },
  {
   "cell_type": "code",
   "execution_count": 111,
   "id": "73e41837",
   "metadata": {},
   "outputs": [],
   "source": [
    "inputFile = 'dichloropyridine26_q+0.fchk' \n",
    "outputFile = 'dichloropyridine26_q+0.sdf'\n",
    "loadInput = load_one(inputFile)\n",
    "dump_one(loadInput,outputFile)\n"
   ]
  },
  {
   "cell_type": "code",
   "execution_count": 112,
   "id": "87c7a2cf",
   "metadata": {},
   "outputs": [
    {
     "ename": "AttributeError",
     "evalue": "'str' object has no attribute 'atcharges'",
     "output_type": "error",
     "traceback": [
      "\u001b[0;31m---------------------------------------------------------------------------\u001b[0m",
      "\u001b[0;31mAttributeError\u001b[0m                            Traceback (most recent call last)",
      "\u001b[0;32m<ipython-input-112-d91b0a2d6a95>\u001b[0m in \u001b[0;36m<module>\u001b[0;34m\u001b[0m\n\u001b[0;32m----> 1\u001b[0;31m \u001b[0mprint\u001b[0m\u001b[0;34m(\u001b[0m\u001b[0minputFile\u001b[0m\u001b[0;34m.\u001b[0m\u001b[0matcharges\u001b[0m\u001b[0;34m(\u001b[0m\u001b[0minputFile\u001b[0m\u001b[0;34m)\u001b[0m\u001b[0;34m)\u001b[0m\u001b[0;34m\u001b[0m\u001b[0;34m\u001b[0m\u001b[0m\n\u001b[0m",
      "\u001b[0;31mAttributeError\u001b[0m: 'str' object has no attribute 'atcharges'"
     ]
    }
   ],
   "source": [
    "print(inputFile.atcharges(inputFile))"
   ]
  },
  {
   "cell_type": "code",
   "execution_count": 113,
   "id": "de1ea59f",
   "metadata": {},
   "outputs": [
    {
     "name": "stderr",
     "output_type": "stream",
     "text": [
      "RDKit WARNING: [21:40:34] WARNING: not removing hydrogen atom without neighbors\n",
      "RDKit WARNING: [21:40:34] WARNING: not removing hydrogen atom without neighbors\n",
      "RDKit WARNING: [21:40:34] WARNING: not removing hydrogen atom without neighbors\n"
     ]
    }
   ],
   "source": [
    "mol = Chem.MolFromMolFile(outputFile)\n",
    "#mol = Chem.MolFromSmiles('Cl[C@H](F)NC\\C=C\\C')"
   ]
  },
  {
   "cell_type": "code",
   "execution_count": 114,
   "id": "856f716f",
   "metadata": {},
   "outputs": [],
   "source": [
    "image = rdMolDraw2D.MolDraw2DCairo(500,400) \n",
    "\n",
    "def imageGenerate(image):\n",
    "    image.DrawMolecule(mol) \n",
    "    image.FinishDrawing()\n",
    "    image.WriteDrawingText('test.png')\n"
   ]
  },
  {
   "cell_type": "code",
   "execution_count": 115,
   "id": "c8816714",
   "metadata": {},
   "outputs": [],
   "source": [
    "image.drawOptions().addStereoAnnotation = True\n"
   ]
  },
  {
   "cell_type": "code",
   "execution_count": 116,
   "id": "8be6be24",
   "metadata": {},
   "outputs": [
    {
     "data": {
      "image/png": "[encoded data removed]",
      "text/plain": [
       "<IPython.core.display.Image object>"
      ]
     },
     "metadata": {},
     "output_type": "display_data"
    }
   ],
   "source": [
    "imageGenerate(image)\n",
    "display(Image(filename='test.png'))"
   ]
  },
  {
   "cell_type": "code",
   "execution_count": null,
   "id": "d441e3e1",
   "metadata": {},
   "outputs": [],
   "source": []
  },
  {
   "cell_type": "code",
   "execution_count": null,
   "id": "6b36dc40",
   "metadata": {},
   "outputs": [],
   "source": []
  }
 ],
 "metadata": {
  "kernelspec": {
   "display_name": "Python 3",
   "language": "python",
   "name": "python3"
  },
  "language_info": {
   "codemirror_mode": {
    "name": "ipython",
    "version": 3
   },
   "file_extension": ".py",
   "mimetype": "text/x-python",
   "name": "python",
   "nbconvert_exporter": "python",
   "pygments_lexer": "ipython3",
   "version": "3.7.10"
  }
 },
 "nbformat": 4,
 "nbformat_minor": 5
}
