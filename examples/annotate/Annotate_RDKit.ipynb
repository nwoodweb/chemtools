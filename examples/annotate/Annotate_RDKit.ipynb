{
 "cells": [
  {
   "cell_type": "markdown",
   "id": "28446545",
   "metadata": {},
   "source": [
    "# Annotating 2D Molecular Structures Using RDKit \n",
    "## Introduction\n",
    "This program is meant to use IOData to parse a 'fchk' input file for atoms and atomic charges, then use RDKit to visualize the molecule in question and output as a png file. RDKit will also colorize in accordance to atomic charges\n",
    " \n",
    "\n",
    "## Dependencies\n",
    "\n",
    "1. We need to load dependencies for both IOData and RDKit\n",
    "\n",
    "2. IOData requires a means to load an input file \"input\" using `load_one`, and output a 'sdf' file using `dump_one`,\n",
    "\n",
    "3. RDKit is modular, and requires specific modules for certain tasks. IE. when we want to manipulate a chemical, we need RDKit to import Chem/AllChem, and then individually import necessary submodules such as `PeriodicTable`\n",
    "\n",
    "Below are the dependencies\n"
   ]
  },
  {
   "cell_type": "code",
   "execution_count": 109,
   "id": "5d50bb3a",
   "metadata": {},
   "outputs": [],
   "source": [
    "\n",
    "from iodata import load_one, dump_one \n",
    "from iodata import iodata\n",
    "'''\n",
    "from iodata import formats \n",
    "from iodata.formats import sdf\n",
    "from iodata import formats \n",
    "from iodata.formats import sdf\n",
    "from iodata.formats.sdf import dump_one \n",
    "'''\n",
    "\n",
    "from rdkit import Chem\n",
    "from rdkit.Chem import AllChem \n",
    "from rdkit.Chem import Draw\n",
    "from rdkit.Chem.Draw import rdMolDraw2D\n",
    "from rdkit.Chem.Draw import MolToImage\n",
    "from rdkit.Chem import rdMolTransforms \n",
    "from rdkit.Chem import PeriodicTable\n",
    "from rdkit.Chem import rdmolfiles\n",
    "from rdkit.Chem.Draw import DrawingOptions\n",
    "\n",
    "from IPython.display import Image\n"
   ]
  },
  {
   "cell_type": "markdown",
   "id": "5f697204",
   "metadata": {},
   "source": [
    "## Manipulate Our Input\n",
    "\n",
    "We need to load our input using the afforementioned `load_one` and save to 'sdf' using `dump_one`\n",
    "\n",
    "### IOData manipulation \n",
    "After loading and saving, we want to manipulate the loaded input file 'loadInput'\n",
    "\n",
    "1. We want to create a key : value dictionary, dictCharges, of our atomic charges, accomplished using the atcharges API call \n",
    "\n",
    "### RDKit Manipulation\n",
    "\n",
    "1. Working with our saved output file, we want to read it using RDKit, accomplished by `Chem.MolFromMolFile()`\n",
    "\n",
    "2. We can create an additional key : value dictionary tabulating our atomic numbers and atoms, accomplished by establishing a for loop for `GetAtoms()` then iterating through each atom.\n",
    "\n",
    "3. We can also examine our readed 'sdf' file by running `Chem.MolToSmiles()` \n"
   ]
  },
  {
   "cell_type": "code",
   "execution_count": 110,
   "id": "22ce65a2",
   "metadata": {},
   "outputs": [
    {
     "name": "stdout",
     "output_type": "stream",
     "text": [
      "mulliken [-0.48356702  1.21850493  0.70394801  0.64173068 -0.65568545 -0.36909143\n",
      " -0.49770781 -0.55813191]\n",
      "esp [-0.47309653 -0.16880218  0.49252442 -0.35304122  0.14979923 -0.00819151\n",
      "  0.19343217  0.16737561]\n",
      "npa [-0.54651148 -0.31660749  0.39734959 -0.3321443   0.23668159  0.12814813\n",
      "  0.22080404  0.21227993]\n",
      " \n",
      "Atomic Numbers of Individual Atoms: \n",
      "8 O\n",
      "6 C\n",
      "6 C\n",
      "6 C\n",
      "1 H\n",
      "1 H\n",
      "1 H\n",
      "1 H\n",
      "C.C.C.O.[HH].[HH].[HH].[HH]\n",
      "CCCO[HH][HH][HH][HH]\n",
      "None\n"
     ]
    }
   ],
   "source": [
    "input = 'acrolein_q+0.fchk'\n",
    "loadInput = load_one(input)\n",
    "dump_one(loadInput,'acrolein.sdf')\n",
    "\n",
    "for key, value in loadInput.atcharges.items():\n",
    "    dictCharges = f\"{key[0:]} {value[0:]}\" \n",
    "    print(dictCharges)\n",
    "\n",
    "readFile = Chem.MolFromMolFile('acrolein.sdf')\n",
    "\n",
    "print(\" \")\n",
    "print(\"Atomic Numbers of Individual Atoms: \")\n",
    "for m in readFile.GetAtoms():\n",
    "    dictAtom = f\"{m.GetAtomicNum()} {m.GetSymbol()}\" \n",
    "    print(dictAtom)\n",
    "    \n",
    "    # THIS IS DIAGNOSTIC, I AM NOT SURE WHY DUMP_ONE OR RDKIT IS FAILING TO PRESERVE BONDS OR HOW TO RECONSTRUCT THE BONDS\n",
    "smiles = Chem.MolToSmiles(readFile)\n",
    "molTemp = smiles.replace(\".\",\"\")\n",
    "print(smiles)\n",
    "print(molTemp)\n",
    "test = Chem.MolFromSmiles(molTemp)\n",
    "print(test)"
   ]
  },
  {
   "cell_type": "markdown",
   "id": "d68b5fec",
   "metadata": {},
   "source": [
    "## Visualization using RDKit\n",
    "Now we want to save our image and view, accomplished using `Draw.MolToImage()` "
   ]
  },
  {
   "cell_type": "code",
   "execution_count": 111,
   "id": "a492e5f8",
   "metadata": {},
   "outputs": [
    {
     "data": {
      "image/png": "[encoded data removed]",
      "text/plain": [
       "<PIL.PngImagePlugin.PngImageFile image mode=RGB size=300x300 at 0x7F9FBA5C4A50>"
      ]
     },
     "execution_count": 111,
     "metadata": {},
     "output_type": "execute_result"
    }
   ],
   "source": [
    "img = Draw.MolToImage(readFile)\n",
    "\n",
    "#img = MolToImage(smile, size=(400, 400),fitImage=True)\n",
    "img"
   ]
  },
  {
   "cell_type": "code",
   "execution_count": null,
   "id": "1c0de00d",
   "metadata": {},
   "outputs": [],
   "source": []
  },
  {
   "cell_type": "code",
   "execution_count": null,
   "id": "7aaab0f9",
   "metadata": {},
   "outputs": [],
   "source": []
  }
 ],
 "metadata": {
  "kernelspec": {
   "display_name": "Python [conda env:.conda-my-rdkit-env] *",
   "language": "python",
   "name": "conda-env-.conda-my-rdkit-env-py"
  },
  "language_info": {
   "codemirror_mode": {
    "name": "ipython",
    "version": 3
   },
   "file_extension": ".py",
   "mimetype": "text/x-python",
   "name": "python",
   "nbconvert_exporter": "python",
   "pygments_lexer": "ipython3",
   "version": "3.7.10"
  }
 },
 "nbformat": 4,
 "nbformat_minor": 5
}
