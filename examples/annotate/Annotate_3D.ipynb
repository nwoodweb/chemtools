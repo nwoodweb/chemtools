{
 "cells": [
  {
   "cell_type": "code",
   "execution_count": 18,
   "id": "59d34704",
   "metadata": {},
   "outputs": [
    {
     "name": "stdout",
     "output_type": "stream",
     "text": [
      "2021.03.4\n",
      "Sat Aug  7 23:16:19 2021\n"
     ]
    }
   ],
   "source": [
    "from iodata import load_one, dump_one \n",
    "\n",
    "from rdkit import Chem\n",
    "from rdkit.Chem import AllChem\n",
    "from rdkit.Chem import Draw\n",
    "from rdkit.Chem.Draw import IPythonConsole\n",
    "\n",
    "from ipywidgets import interact, interactive, fixed\n",
    "\n",
    "from chemml.chem import Molecule\n",
    "\n",
    "\n",
    "from rdkit import rdBase\n",
    "print(rdBase.rdkitVersion)\n",
    "import os,time\n",
    "print( time.asctime())\n",
    "import py3Dmol\n",
    "\n",
    "import glob,os\n",
    "\n",
    "import pandas as pd"
   ]
  },
  {
   "cell_type": "code",
   "execution_count": 57,
   "id": "5b662217",
   "metadata": {},
   "outputs": [
    {
     "name": "stdout",
     "output_type": "stream",
     "text": [
      "[<chemml.chem.Molecule(\n",
      "        rdkit_molecule : <rdkit.Chem.rdchem.Mol object at 0x7f145f747e40>,\n",
      "        pybel_molecule : <openbabel.pybel.Molecule object at 0x7f14a01df110>,\n",
      "        creator        : ('XYZ', 'dichloropyridine26_q+0.xyz'),\n",
      "        smiles         : 'Clc1cccc(Cl)n1',\n",
      "        smarts         : None,\n",
      "        inchi          : None,\n",
      "        xyz            : <XYZ(geometry: (11, 3), atomic_numbers: (11, 1), atomic_symbols: (11, 1))>)>]\n",
      " \n",
      "\n",
      "                         Name          SMILES\n",
      "0  dichloropyridine26_q+0.xyz  Clc1cccc(Cl)n1\n",
      " \n",
      "Our Molecule in SMILES format: \n",
      "Clc1cccc(Cl)n1\n"
     ]
    },
    {
     "data": {
      "application/3dmoljs_load.v0": "<div id=\"3dmolviewer_16283948974532712\"  style=\"position: relative; width: 500px; height: 500px\">\n        <p id=\"3dmolwarning_16283948974532712\" style=\"background-color:#ffcccc;color:black\">You appear to be running in JupyterLab (or JavaScript failed to load for some other reason).  You need to install the 3dmol extension: <br>\n        <tt>jupyter labextension install jupyterlab_3dmol</tt></p>\n        </div>\n<script>\n\nvar loadScriptAsync = function(uri){\n  return new Promise((resolve, reject) => {\n    var tag = document.createElement('script');\n    tag.src = uri;\n    tag.async = true;\n    tag.onload = () => {\n      resolve();\n    };\n  var firstScriptTag = document.getElementsByTagName('script')[0];\n  firstScriptTag.parentNode.insertBefore(tag, firstScriptTag);\n});\n};\n\nif(typeof $3Dmolpromise === 'undefined') {\n$3Dmolpromise = null;\n  $3Dmolpromise = loadScriptAsync('https://3dmol.org/build/3Dmol.js');\n}\n\nvar viewer_16283948974532712 = null;\nvar warn = document.getElementById(\"3dmolwarning_16283948974532712\");\nif(warn) {\n    warn.parentNode.removeChild(warn);\n}\n$3Dmolpromise.then(function() {\nviewer_16283948974532712 = $3Dmol.createViewer($(\"#3dmolviewer_16283948974532712\"),{backgroundColor:\"white\"});\nviewer_16283948974532712.zoomTo();\n\tviewer_16283948974532712.addModel(\"\\n     RDKit          3D\\n\\n 11 11  0  0  0  0  0  0  0  0999 V2000\\n    2.7833   -1.4284    0.0799 Cl  0  0  0  0  0  0  0  0  0  0  0  0\\n    1.2380   -0.6858    0.0350 C   0  0  0  0  0  0  0  0  0  0  0  0\\n    1.1171    0.6956    0.0443 C   0  0  0  0  0  0  0  0  0  0  0  0\\n   -0.1631    1.2394    0.0065 C   0  0  0  0  0  0  0  0  0  0  0  0\\n   -1.2591    0.3833   -0.0387 C   0  0  0  0  0  0  0  0  0  0  0  0\\n   -1.0184   -0.9824   -0.0438 C   0  0  0  0  0  0  0  0  0  0  0  0\\n   -2.3190   -2.0991   -0.0983 Cl  0  0  0  0  0  0  0  0  0  0  0  0\\n    0.2034   -1.5454   -0.0081 N   0  0  0  0  0  0  0  0  0  0  0  0\\n    1.9935    1.3333    0.0800 H   0  0  0  0  0  0  0  0  0  0  0  0\\n   -0.3050    2.3168    0.0121 H   0  0  0  0  0  0  0  0  0  0  0  0\\n   -2.2707    0.7727   -0.0690 H   0  0  0  0  0  0  0  0  0  0  0  0\\n  1  2  1  0\\n  2  3  2  0\\n  3  4  1  0\\n  4  5  2  0\\n  5  6  1  0\\n  6  7  1  0\\n  6  8  2  0\\n  8  2  1  0\\n  3  9  1  0\\n  4 10  1  0\\n  5 11  1  0\\nM  END\\n\",\"mol\");\n\tviewer_16283948974532712.setStyle({\"stick\": {\"backgroundColor\": \"#000000\"}});\n\tviewer_16283948974532712.zoomTo();\nviewer_16283948974532712.render();\n});\n</script>",
      "text/html": [
       "<div id=\"3dmolviewer_16283948974532712\"  style=\"position: relative; width: 500px; height: 500px\">\n",
       "        <p id=\"3dmolwarning_16283948974532712\" style=\"background-color:#ffcccc;color:black\">You appear to be running in JupyterLab (or JavaScript failed to load for some other reason).  You need to install the 3dmol extension: <br>\n",
       "        <tt>jupyter labextension install jupyterlab_3dmol</tt></p>\n",
       "        </div>\n",
       "<script>\n",
       "\n",
       "var loadScriptAsync = function(uri){\n",
       "  return new Promise((resolve, reject) => {\n",
       "    var tag = document.createElement('script');\n",
       "    tag.src = uri;\n",
       "    tag.async = true;\n",
       "    tag.onload = () => {\n",
       "      resolve();\n",
       "    };\n",
       "  var firstScriptTag = document.getElementsByTagName('script')[0];\n",
       "  firstScriptTag.parentNode.insertBefore(tag, firstScriptTag);\n",
       "});\n",
       "};\n",
       "\n",
       "if(typeof $3Dmolpromise === 'undefined') {\n",
       "$3Dmolpromise = null;\n",
       "  $3Dmolpromise = loadScriptAsync('https://3dmol.org/build/3Dmol.js');\n",
       "}\n",
       "\n",
       "var viewer_16283948974532712 = null;\n",
       "var warn = document.getElementById(\"3dmolwarning_16283948974532712\");\n",
       "if(warn) {\n",
       "    warn.parentNode.removeChild(warn);\n",
       "}\n",
       "$3Dmolpromise.then(function() {\n",
       "viewer_16283948974532712 = $3Dmol.createViewer($(\"#3dmolviewer_16283948974532712\"),{backgroundColor:\"white\"});\n",
       "viewer_16283948974532712.zoomTo();\n",
       "\tviewer_16283948974532712.addModel(\"\\n     RDKit          3D\\n\\n 11 11  0  0  0  0  0  0  0  0999 V2000\\n    2.7833   -1.4284    0.0799 Cl  0  0  0  0  0  0  0  0  0  0  0  0\\n    1.2380   -0.6858    0.0350 C   0  0  0  0  0  0  0  0  0  0  0  0\\n    1.1171    0.6956    0.0443 C   0  0  0  0  0  0  0  0  0  0  0  0\\n   -0.1631    1.2394    0.0065 C   0  0  0  0  0  0  0  0  0  0  0  0\\n   -1.2591    0.3833   -0.0387 C   0  0  0  0  0  0  0  0  0  0  0  0\\n   -1.0184   -0.9824   -0.0438 C   0  0  0  0  0  0  0  0  0  0  0  0\\n   -2.3190   -2.0991   -0.0983 Cl  0  0  0  0  0  0  0  0  0  0  0  0\\n    0.2034   -1.5454   -0.0081 N   0  0  0  0  0  0  0  0  0  0  0  0\\n    1.9935    1.3333    0.0800 H   0  0  0  0  0  0  0  0  0  0  0  0\\n   -0.3050    2.3168    0.0121 H   0  0  0  0  0  0  0  0  0  0  0  0\\n   -2.2707    0.7727   -0.0690 H   0  0  0  0  0  0  0  0  0  0  0  0\\n  1  2  1  0\\n  2  3  2  0\\n  3  4  1  0\\n  4  5  2  0\\n  5  6  1  0\\n  6  7  1  0\\n  6  8  2  0\\n  8  2  1  0\\n  3  9  1  0\\n  4 10  1  0\\n  5 11  1  0\\nM  END\\n\",\"mol\");\n",
       "\tviewer_16283948974532712.setStyle({\"stick\": {\"backgroundColor\": \"#000000\"}});\n",
       "\tviewer_16283948974532712.zoomTo();\n",
       "viewer_16283948974532712.render();\n",
       "});\n",
       "</script>"
      ]
     },
     "metadata": {},
     "output_type": "display_data"
    },
    {
     "name": "stdout",
     "output_type": "stream",
     "text": [
      " \n"
     ]
    }
   ],
   "source": [
    "loadInput = load_one('dichloropyridine26_q+0.fchk')\n",
    "xyzName = 'dichloropyridine26_q+0.xyz' \n",
    "dump_one(loadInput, 'dichloropyridine26_q+0.xyz')\n",
    "xyz_files = glob.glob(xyzName)\n",
    "\n",
    "# make a list of ChemML Molecule object instances based on the names of the xyz files from xyz_files\n",
    "molecule_list = [Molecule(xyzName, input_type='xyz') for file in xyz_files]\n",
    "\n",
    "# alter the ChemML Molecule object instances of molecule_list so that their SMILES codes can be recognzied by RDKit\n",
    "for molecule in molecule_list:\n",
    "    molecule.to_smiles(kekuleSmiles=True)\n",
    "\n",
    "print(molecule_list)\n",
    "\n",
    "table = pd.DataFrame(data={'Name':xyzName,  \n",
    "                         'SMILES':[molecule.smiles for molecule in molecule_list]}, \n",
    "                   columns=['Name','SMILES'])\n",
    "\n",
    "print(\" \")\n",
    "print(\"\")\n",
    "print(table)\n",
    "\n",
    "def Visualize3D(mol, size=(300,300), style='sphere', surface=False, backgroundColor='#000000'):\n",
    "    molBlock = Chem.MolToMolBlock(mol) \n",
    "    \n",
    "    \n",
    "    view = py3Dmol.view(width=size[0], height=size[1])\n",
    "    view.addModel(molBlock, 'mol')\n",
    "    view.setStyle({style:{'backgroundColor':'#000000'}})\n",
    "    view.zoomTo()\n",
    "    return view\n",
    "\n",
    "def SmilesSetup(smiles): \n",
    "    mol = Chem.MolFromSmiles(smiles)\n",
    "    if mol is not None: \n",
    "            mol = Chem.AddHs(mol)\n",
    "            AllChem.EmbedMolecule(mol)\n",
    "            AllChem.MMFFOptimizeMolecule(mol,maxIters=250)\n",
    "            for atom in mol.GetAtoms():\n",
    "                atom.SetProp(\"atomNote\", str(atom.GetIdx()+1))\n",
    "            return mol\n",
    "    else:\n",
    "        return None \n",
    "    \n",
    "print(\" \")\n",
    "smiles = table.iloc[0,1]\n",
    "print(\"Our Molecule in SMILES format: \")\n",
    "print(smiles)\n",
    "\n",
    "molProcessed = SmilesSetup(smiles)\n",
    "\n",
    "view = Visualize3D(molProcessed,size=(500,500), style='stick', surface=True)\n",
    "view.show()\n",
    "\n",
    "print(\" \")\n",
    "\n"
   ]
  },
  {
   "cell_type": "code",
   "execution_count": null,
   "id": "0bf6f306",
   "metadata": {},
   "outputs": [],
   "source": []
  }
 ],
 "metadata": {
  "kernelspec": {
   "display_name": "Python [conda env:.conda-chemml_env] *",
   "language": "python",
   "name": "conda-env-.conda-chemml_env-py"
  },
  "language_info": {
   "codemirror_mode": {
    "name": "ipython",
    "version": 3
   },
   "file_extension": ".py",
   "mimetype": "text/x-python",
   "name": "python",
   "nbconvert_exporter": "python",
   "pygments_lexer": "ipython3",
   "version": "3.7.10"
  }
 },
 "nbformat": 4,
 "nbformat_minor": 5
}
