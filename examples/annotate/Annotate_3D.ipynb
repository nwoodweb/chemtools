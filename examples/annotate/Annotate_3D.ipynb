{
 "cells": [
  {
   "cell_type": "code",
   "execution_count": 72,
   "id": "59d34704",
   "metadata": {},
   "outputs": [
    {
     "name": "stdout",
     "output_type": "stream",
     "text": [
      "2021.03.4\n",
      "Mon Aug  9 11:03:35 2021\n"
     ]
    }
   ],
   "source": [
    "from iodata import load_one, dump_one \n",
    "\n",
    "from rdkit import Chem\n",
    "from rdkit.Chem import AllChem\n",
    "from rdkit.Chem import Draw\n",
    "from rdkit.Chem.Draw import IPythonConsole\n",
    "\n",
    "from ipywidgets import interact, interactive, fixed\n",
    "\n",
    "from chemml.chem import Molecule\n",
    "\n",
    "\n",
    "from rdkit import rdBase\n",
    "print(rdBase.rdkitVersion)\n",
    "import os,time\n",
    "print( time.asctime())\n",
    "import py3Dmol\n",
    "\n",
    "import glob,os\n",
    "\n",
    "import pandas as pd"
   ]
  },
  {
   "cell_type": "code",
   "execution_count": 112,
   "id": "5b662217",
   "metadata": {},
   "outputs": [
    {
     "name": "stdout",
     "output_type": "stream",
     "text": [
      "[<chemml.chem.Molecule(\n",
      "        rdkit_molecule : <rdkit.Chem.rdchem.Mol object at 0x7f145f6b9d00>,\n",
      "        pybel_molecule : <openbabel.pybel.Molecule object at 0x7f14a58d4310>,\n",
      "        creator        : ('XYZ', 'dichloropyridine26_q+0.xyz'),\n",
      "        smiles         : 'Clc1cccc(Cl)n1',\n",
      "        smarts         : None,\n",
      "        inchi          : None,\n",
      "        xyz            : <XYZ(geometry: (11, 3), atomic_numbers: (11, 1), atomic_symbols: (11, 1))>)>]\n",
      " \n",
      "\n",
      "                         Name          SMILES\n",
      "0  dichloropyridine26_q+0.xyz  Clc1cccc(Cl)n1\n",
      " \n",
      "Our Molecule in SMILES format: \n",
      "Clc1cccc(Cl)n1\n"
     ]
    },
    {
     "data": {
      "application/3dmoljs_load.v0": "<div id=\"3dmolviewer_16285350540933895\"  style=\"position: relative; width: 500px; height: 500px\">\n        <p id=\"3dmolwarning_16285350540933895\" style=\"background-color:#ffcccc;color:black\">You appear to be running in JupyterLab (or JavaScript failed to load for some other reason).  You need to install the 3dmol extension: <br>\n        <tt>jupyter labextension install jupyterlab_3dmol</tt></p>\n        </div>\n<script>\n\nvar loadScriptAsync = function(uri){\n  return new Promise((resolve, reject) => {\n    var tag = document.createElement('script');\n    tag.src = uri;\n    tag.async = true;\n    tag.onload = () => {\n      resolve();\n    };\n  var firstScriptTag = document.getElementsByTagName('script')[0];\n  firstScriptTag.parentNode.insertBefore(tag, firstScriptTag);\n});\n};\n\nif(typeof $3Dmolpromise === 'undefined') {\n$3Dmolpromise = null;\n  $3Dmolpromise = loadScriptAsync('https://3dmol.org/build/3Dmol.js');\n}\n\nvar viewer_16285350540933895 = null;\nvar warn = document.getElementById(\"3dmolwarning_16285350540933895\");\nif(warn) {\n    warn.parentNode.removeChild(warn);\n}\n$3Dmolpromise.then(function() {\nviewer_16285350540933895 = $3Dmol.createViewer($(\"#3dmolviewer_16285350540933895\"),{backgroundColor:\"white\"});\nviewer_16285350540933895.zoomTo();\n\tviewer_16285350540933895.addModel(\"\\n     RDKit          3D\\n\\n 11 11  0  0  0  0  0  0  0  0999 V2000\\n    2.8508   -1.4199   -0.0778 Cl  0  0  0  0  0  0  0  0  0  0  0  0\\n    1.2420   -0.7129   -0.0368 C   0  0  0  0  0  0  0  0  0  0  0  0\\n    1.1554    0.6703    0.0072 C   0  0  0  0  0  0  0  0  0  0  0  0\\n   -0.1083    1.2220    0.0393 C   0  0  0  0  0  0  0  0  0  0  0  0\\n   -1.2200    0.3870    0.0264 C   0  0  0  0  0  0  0  0  0  0  0  0\\n   -1.1044   -0.9834   -0.0176 C   0  0  0  0  0  0  0  0  0  0  0  0\\n   -2.5043   -2.0515   -0.0342 Cl  0  0  0  0  0  0  0  0  0  0  0  0\\n    0.1336   -1.4994   -0.0482 N   0  0  0  0  0  0  0  0  0  0  0  0\\n    2.0310    1.3135    0.0168 H   0  0  0  0  0  0  0  0  0  0  0  0\\n   -0.2464    2.2902    0.0741 H   0  0  0  0  0  0  0  0  0  0  0  0\\n   -2.2295    0.7840    0.0507 H   0  0  0  0  0  0  0  0  0  0  0  0\\n  1  2  1  0\\n  2  3  2  0\\n  3  4  1  0\\n  4  5  2  0\\n  5  6  1  0\\n  6  7  1  0\\n  6  8  2  0\\n  8  2  1  0\\n  3  9  1  0\\n  4 10  1  0\\n  5 11  1  0\\nM  END\\n\",\"mol\");\n\tviewer_16285350540933895.addLabel(\"dichloropyridine26_q+0\",{\"position\": {\"x\": -6.89, \"y\": 0.75, \"z\": 0.35}, \"backgroundColor\": \"#999991\", \"backgroundOpacity\": 0.2});\n\tviewer_16285350540933895.setBackgroundColor(\"#999999\");\n\tviewer_16285350540933895.setStyle({\"stick\": {\"backgroundColor\": \"#000000\"}});\n\tviewer_16285350540933895.zoomTo();\n\tviewer_16285350540933895.render();\nviewer_16285350540933895.render();\n});\n</script>",
      "text/html": [
       "<div id=\"3dmolviewer_16285350540933895\"  style=\"position: relative; width: 500px; height: 500px\">\n",
       "        <p id=\"3dmolwarning_16285350540933895\" style=\"background-color:#ffcccc;color:black\">You appear to be running in JupyterLab (or JavaScript failed to load for some other reason).  You need to install the 3dmol extension: <br>\n",
       "        <tt>jupyter labextension install jupyterlab_3dmol</tt></p>\n",
       "        </div>\n",
       "<script>\n",
       "\n",
       "var loadScriptAsync = function(uri){\n",
       "  return new Promise((resolve, reject) => {\n",
       "    var tag = document.createElement('script');\n",
       "    tag.src = uri;\n",
       "    tag.async = true;\n",
       "    tag.onload = () => {\n",
       "      resolve();\n",
       "    };\n",
       "  var firstScriptTag = document.getElementsByTagName('script')[0];\n",
       "  firstScriptTag.parentNode.insertBefore(tag, firstScriptTag);\n",
       "});\n",
       "};\n",
       "\n",
       "if(typeof $3Dmolpromise === 'undefined') {\n",
       "$3Dmolpromise = null;\n",
       "  $3Dmolpromise = loadScriptAsync('https://3dmol.org/build/3Dmol.js');\n",
       "}\n",
       "\n",
       "var viewer_16285350540933895 = null;\n",
       "var warn = document.getElementById(\"3dmolwarning_16285350540933895\");\n",
       "if(warn) {\n",
       "    warn.parentNode.removeChild(warn);\n",
       "}\n",
       "$3Dmolpromise.then(function() {\n",
       "viewer_16285350540933895 = $3Dmol.createViewer($(\"#3dmolviewer_16285350540933895\"),{backgroundColor:\"white\"});\n",
       "viewer_16285350540933895.zoomTo();\n",
       "\tviewer_16285350540933895.addModel(\"\\n     RDKit          3D\\n\\n 11 11  0  0  0  0  0  0  0  0999 V2000\\n    2.8508   -1.4199   -0.0778 Cl  0  0  0  0  0  0  0  0  0  0  0  0\\n    1.2420   -0.7129   -0.0368 C   0  0  0  0  0  0  0  0  0  0  0  0\\n    1.1554    0.6703    0.0072 C   0  0  0  0  0  0  0  0  0  0  0  0\\n   -0.1083    1.2220    0.0393 C   0  0  0  0  0  0  0  0  0  0  0  0\\n   -1.2200    0.3870    0.0264 C   0  0  0  0  0  0  0  0  0  0  0  0\\n   -1.1044   -0.9834   -0.0176 C   0  0  0  0  0  0  0  0  0  0  0  0\\n   -2.5043   -2.0515   -0.0342 Cl  0  0  0  0  0  0  0  0  0  0  0  0\\n    0.1336   -1.4994   -0.0482 N   0  0  0  0  0  0  0  0  0  0  0  0\\n    2.0310    1.3135    0.0168 H   0  0  0  0  0  0  0  0  0  0  0  0\\n   -0.2464    2.2902    0.0741 H   0  0  0  0  0  0  0  0  0  0  0  0\\n   -2.2295    0.7840    0.0507 H   0  0  0  0  0  0  0  0  0  0  0  0\\n  1  2  1  0\\n  2  3  2  0\\n  3  4  1  0\\n  4  5  2  0\\n  5  6  1  0\\n  6  7  1  0\\n  6  8  2  0\\n  8  2  1  0\\n  3  9  1  0\\n  4 10  1  0\\n  5 11  1  0\\nM  END\\n\",\"mol\");\n",
       "\tviewer_16285350540933895.addLabel(\"dichloropyridine26_q+0\",{\"position\": {\"x\": -6.89, \"y\": 0.75, \"z\": 0.35}, \"backgroundColor\": \"#999991\", \"backgroundOpacity\": 0.2});\n",
       "\tviewer_16285350540933895.setBackgroundColor(\"#999999\");\n",
       "\tviewer_16285350540933895.setStyle({\"stick\": {\"backgroundColor\": \"#000000\"}});\n",
       "\tviewer_16285350540933895.zoomTo();\n",
       "\tviewer_16285350540933895.render();\n",
       "viewer_16285350540933895.render();\n",
       "});\n",
       "</script>"
      ]
     },
     "metadata": {},
     "output_type": "display_data"
    },
    {
     "name": "stdout",
     "output_type": "stream",
     "text": [
      " \n"
     ]
    }
   ],
   "source": [
    "loadInput = load_one('dichloropyridine26_q+0.fchk')\n",
    "xyzName = 'dichloropyridine26_q+0.xyz'\n",
    "molName = xyzName[:-4]\n",
    "dump_one(loadInput, 'dichloropyridine26_q+0.xyz')\n",
    "xyz_files = glob.glob(xyzName)\n",
    "\n",
    "# make a list of ChemML Molecule object instances based on the names of the xyz files from xyz_files\n",
    "molecule_list = [Molecule(xyzName, input_type='xyz') for file in xyz_files]\n",
    "\n",
    "# alter the ChemML Molecule object instances of molecule_list so that their SMILES codes can be recognzied by RDKit\n",
    "for molecule in molecule_list:\n",
    "    molecule.to_smiles(kekuleSmiles=True)\n",
    "\n",
    "print(molecule_list)\n",
    "\n",
    "table = pd.DataFrame(data={'Name':xyzName,  \n",
    "                         'SMILES':[molecule.smiles for molecule in molecule_list]}, \n",
    "                   columns=['Name','SMILES'])\n",
    "\n",
    "print(\" \")\n",
    "print(\"\")\n",
    "print(table)\n",
    "\n",
    "def Visualize3D(mol, size=(300,300), style='sphere', surface=False, backgroundColor='#000000'):\n",
    "    molBlock = Chem.MolToMolBlock(mol) \n",
    "    view = py3Dmol.view(width=size[0], height=size[1])\n",
    "    view.addModel(molBlock, 'mol')\n",
    "    \n",
    "    view.addLabel(molName, {'position': {'x':-6.89, 'y':0.75, 'z':0.35}, 'backgroundColor': '#999991', 'backgroundOpacity': 0.2})\n",
    "    view.setBackgroundColor('#999999')\n",
    "\n",
    "    view.setStyle({style:{'backgroundColor':'#000000'}})\n",
    "    view.zoomTo()\n",
    "    view.render()\n",
    "    return view\n",
    "\n",
    "def SmilesSetup(smiles): \n",
    "    mol = Chem.MolFromSmiles(smiles)\n",
    "    if mol is not None: \n",
    "            mol = Chem.AddHs(mol)\n",
    "            AllChem.EmbedMolecule(mol)\n",
    "\n",
    "            return mol\n",
    "    else:\n",
    "        return None \n",
    "    \n",
    "print(\" \")\n",
    "smiles = table.iloc[0,1]\n",
    "print(\"Our Molecule in SMILES format: \")\n",
    "print(smiles)\n",
    "\n",
    "molProcessed = SmilesSetup(smiles)\n",
    "\n",
    "for atom in molProcessed.GetAtoms():\n",
    "    atom.SetProp(\"atomNote\", str(atom.GetIdx()))\n",
    "\n",
    "view = Visualize3D(molProcessed,size=(500,500), style='stick', surface=True)\n",
    "\n",
    "    \n",
    "view.show()\n",
    "\n",
    "print(\" \")\n",
    "\n"
   ]
  },
  {
   "cell_type": "code",
   "execution_count": null,
   "id": "0bf6f306",
   "metadata": {},
   "outputs": [],
   "source": []
  },
  {
   "cell_type": "code",
   "execution_count": null,
   "id": "211079ed",
   "metadata": {},
   "outputs": [],
   "source": []
  },
  {
   "cell_type": "code",
   "execution_count": null,
   "id": "724ea263",
   "metadata": {},
   "outputs": [],
   "source": []
  }
 ],
 "metadata": {
  "kernelspec": {
   "display_name": "Python [conda env:.conda-chemml_env] *",
   "language": "python",
   "name": "conda-env-.conda-chemml_env-py"
  },
  "language_info": {
   "codemirror_mode": {
    "name": "ipython",
    "version": 3
   },
   "file_extension": ".py",
   "mimetype": "text/x-python",
   "name": "python",
   "nbconvert_exporter": "python",
   "pygments_lexer": "ipython3",
   "version": "3.7.10"
  }
 },
 "nbformat": 4,
 "nbformat_minor": 5
}
