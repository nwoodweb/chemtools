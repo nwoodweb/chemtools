{
 "cells": [
  {
   "cell_type": "code",
   "execution_count": 192,
   "id": "1f5c3fdd",
   "metadata": {},
   "outputs": [],
   "source": [
    "import iodata\n",
    "from iodata import load_one,dump_one\n",
    "import numpy as np\n",
    "\n",
    "import rdkit\n",
    "from rdkit import Chem\n",
    "from rdkit.Chem import PeriodicTable\n",
    "\n",
    "import os,glob,sys\n",
    "\n"
   ]
  },
  {
   "cell_type": "code",
   "execution_count": 196,
   "id": "8d549015",
   "metadata": {},
   "outputs": [
    {
     "name": "stdout",
     "output_type": "stream",
     "text": [
      "dichloropyridine26_q+0\n"
     ]
    }
   ],
   "source": [
    "inFile = 'dichloropyridine26_q+0.fchk'\n",
    "loadInput = load_one(inFile)\n",
    "dump_one(loadInput,'test.pdb')\n",
    "molName = inFile[:-5]\n",
    "print(molName)"
   ]
  },
  {
   "cell_type": "code",
   "execution_count": 219,
   "id": "edf3a177",
   "metadata": {},
   "outputs": [
    {
     "name": "stdout",
     "output_type": "stream",
     "text": [
      "[-0.11982276 -0.11982857 -0.53824353  0.26057369 -0.45320065 -0.4532028\n",
      "  0.49976881  0.49977265  0.0844758   0.16985231  0.16985503]\n",
      "[17 17  7  6  6  6  6  6  1  1  1]\n",
      "\n",
      "[(17, -0.119822758), (17, -0.119828567), (7, -0.538243531), (6, 0.260573695), (6, -0.453200648), (6, -0.4532028), (6, 0.499768812), (6, 0.499772652), (1, 0.0844758043), (1, 0.16985231), (1, 0.169855031)]\n"
     ]
    }
   ],
   "source": [
    "\n",
    "espCharges = (loadInput.atcharges['esp'][:])\n",
    "numbers = loadInput.atnums\n",
    "\n",
    "print(\"\")\n",
    "\n",
    "numChargeDict = []\n",
    "for i in range(0,len(numbers)):\n",
    "    step=numbers[i],espCharges[i]\n",
    "    numChargeDict.append(step)\n",
    "    \n",
    "print(numChargeDict)\n",
    "\n",
    "\n"
   ]
  },
  {
   "cell_type": "code",
   "execution_count": null,
   "id": "af1fd462",
   "metadata": {},
   "outputs": [],
   "source": [
    "def RedundantAtomCheck(atom)\n",
    "    if "
   ]
  },
  {
   "cell_type": "code",
   "execution_count": 220,
   "id": "c0625011",
   "metadata": {},
   "outputs": [],
   "source": [
    " \n",
    "f = open(\"test.defattr\", \"w\")\n",
    "f.write(\"attribute: myFactor\\n\")\n",
    "#f.write(\"match mode: 1-to-1\\n\")\n",
    "f.write(\"recipient: atoms\\n\")\n",
    "count = 0\n",
    "for i,p in numChargeDict: \n",
    "    count += 1\n",
    "    \n",
    "    # f.write(f\"\\t :{count}\\t({i}:{p}) \\n\")\n",
    "    for value in p \n",
    "    f.write(f\"\\t@{count}\\t{p} \\n\")\n",
    "f.close() \n",
    "\n"
   ]
  },
  {
   "cell_type": "code",
   "execution_count": null,
   "id": "7a9d69ff",
   "metadata": {},
   "outputs": [],
   "source": []
  },
  {
   "cell_type": "code",
   "execution_count": null,
   "id": "e03ddc64",
   "metadata": {},
   "outputs": [],
   "source": []
  }
 ],
 "metadata": {
  "kernelspec": {
   "display_name": "Python [conda env:.conda-chemml_env] *",
   "language": "python",
   "name": "conda-env-.conda-chemml_env-py"
  },
  "language_info": {
   "codemirror_mode": {
    "name": "ipython",
    "version": 3
   },
   "file_extension": ".py",
   "mimetype": "text/x-python",
   "name": "python",
   "nbconvert_exporter": "python",
   "pygments_lexer": "ipython3",
   "version": "3.7.10"
  }
 },
 "nbformat": 4,
 "nbformat_minor": 5
}
