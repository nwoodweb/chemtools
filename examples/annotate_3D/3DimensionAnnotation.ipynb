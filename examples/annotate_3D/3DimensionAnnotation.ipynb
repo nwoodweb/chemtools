{
 "cells": [
  {
   "cell_type": "code",
   "execution_count": 15,
   "id": "d869e72c",
   "metadata": {},
   "outputs": [],
   "source": [
    "import pandas as pd\n",
    "import numpy as np \n",
    "\n",
    "import iodata\n",
    "from iodata import load_one, dump_one \n",
    "\n",
    "from biopandas.pdb import PandasPdb\n",
    "import io\n",
    "from typing import TextIO, Iterator\n"
   ]
  },
  {
   "cell_type": "code",
   "execution_count": 23,
   "id": "aadb1e41",
   "metadata": {},
   "outputs": [
    {
     "name": "stdout",
     "output_type": "stream",
     "text": [
      "Filenames: \n",
      "dichloropyridine26_q+0.fchk\n",
      "intermediate.pdb\n",
      "dichloropyridine26_q+0.pdb\n",
      " \n",
      "Name of Molecule:\n",
      "dichloropyridine26_q+0\n",
      " \n",
      "Our Working B Factor to replace within IOData Dump : \n",
      "[-0.11982276 -0.11982857 -0.53824353  0.26057369 -0.45320065 -0.4532028\n",
      "  0.49976881  0.49977265  0.0844758   0.16985231  0.16985503]\n",
      "\n",
      "Will be written to dichloropyridine26_q+0.pdb and dumped\n"
     ]
    }
   ],
   "source": [
    "inFile = 'dichloropyridine26_q+0.fchk'\n",
    "interFile = 'intermediate.pdb'\n",
    "outFile = f\"{inFile[:-5]}.pdb\" \n",
    "title = inFile[:-5]\n",
    "\n",
    "print(\"Filenames: \")\n",
    "print(inFile)\n",
    "print(interFile)\n",
    "print(outFile)\n",
    "print(\" \")\n",
    "print(\"Name of Molecule:\")\n",
    "print(title)\n",
    "print(\" \")\n",
    "\n",
    "loadInput = load_one(inFile)\n",
    "\n",
    "\n",
    "workingBFactor = loadInput.atcharges['esp'][:]\n",
    "print(\"Our Working B Factor to replace within IOData Dump : \")\n",
    "print(workingBFactor)\n",
    "print(f\"\\nWill be written to {outFile} and dumped\")"
   ]
  },
  {
   "cell_type": "code",
   "execution_count": 27,
   "id": "2f0fd102",
   "metadata": {},
   "outputs": [
    {
     "name": "stdout",
     "output_type": "stream",
     "text": [
      "[-0.11982276 -0.11982857 -0.53824353  0.26057369 -0.45320065 -0.4532028\n",
      "  0.49976881  0.49977265  0.0844758   0.16985231  0.16985503]\n",
      " \n",
      "Written [-0.11982276 -0.11982857 -0.53824353  0.26057369 -0.45320065 -0.4532028\n",
      "  0.49976881  0.49977265  0.0844758   0.16985231  0.16985503] to dichloropyridine26_q+0.pdb\n"
     ]
    }
   ],
   "source": [
    "    \n",
    "workingBfactor = np.array(loadInput.atcharges['esp'][:])\n",
    "print(workingBfactor)\n",
    "test = load_one('intermediate.pdb')\n",
    "\n",
    "for i,item in enumerate(test.extra['bfactors']):\n",
    "    test.extra['bfactors'][i] = workingBfactor[i]\n",
    "print(\" \")\n",
    "print(f\"Written {test.extra['bfactors'][:]} to {outFile}\")\n",
    "dump_one(test,'test22.pdb')"
   ]
  },
  {
   "cell_type": "code",
   "execution_count": null,
   "id": "22c275bd",
   "metadata": {},
   "outputs": [],
   "source": []
  },
  {
   "cell_type": "code",
   "execution_count": null,
   "id": "16fe8bd4",
   "metadata": {},
   "outputs": [],
   "source": []
  }
 ],
 "metadata": {
  "kernelspec": {
   "display_name": "Python [conda env:.conda-chemml_env] *",
   "language": "python",
   "name": "conda-env-.conda-chemml_env-py"
  },
  "language_info": {
   "codemirror_mode": {
    "name": "ipython",
    "version": 3
   },
   "file_extension": ".py",
   "mimetype": "text/x-python",
   "name": "python",
   "nbconvert_exporter": "python",
   "pygments_lexer": "ipython3",
   "version": "3.7.10"
  }
 },
 "nbformat": 4,
 "nbformat_minor": 5
}
