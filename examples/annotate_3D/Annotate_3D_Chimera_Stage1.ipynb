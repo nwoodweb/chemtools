{
 "cells": [
  {
   "cell_type": "code",
   "execution_count": 28,
   "id": "1f5c3fdd",
   "metadata": {},
   "outputs": [],
   "source": [
    "import iodata\n",
    "from iodata import load_one,dump_one\n",
    "import numpy as np\n",
    "\n",
    "import rdkit\n",
    "from rdkit import Chem\n",
    "from rdkit.Chem import PeriodicTable\n",
    "\n",
    "from chemml.chem import Molecule\n",
    "\n",
    "import os,glob,sys\n",
    "\n",
    "import pandas as pd \n"
   ]
  },
  {
   "cell_type": "code",
   "execution_count": 29,
   "id": "8d549015",
   "metadata": {},
   "outputs": [
    {
     "name": "stdout",
     "output_type": "stream",
     "text": [
      "dichloropyridine26_q+0\n"
     ]
    },
    {
     "name": "stderr",
     "output_type": "stream",
     "text": [
      "RDKit WARNING: [21:16:28] Counts line too short: '' on line4\n"
     ]
    }
   ],
   "source": [
    "inFile = 'dichloropyridine26_q+0.fchk'\n",
    "loadInput = load_one(inFile)\n",
    "dump_one(loadInput,'test.pdb')\n",
    "dump_one(loadInput,'intermediateFile.xyz')\n",
    "\n",
    "interFile='intermediateFile.xyz'\n",
    "molName = inFile[:-5]\n",
    "                 \n",
    "mol = Chem.MolFromMolFile('test.mol2')\n",
    "print(molName)\n",
    "\n"
   ]
  },
  {
   "cell_type": "code",
   "execution_count": 30,
   "id": "b6043f33",
   "metadata": {},
   "outputs": [
    {
     "name": "stdout",
     "output_type": "stream",
     "text": [
      "('Cl', 17)\n",
      "('C', 6)\n",
      "('C', 6)\n",
      "('C', 6)\n",
      "('C', 6)\n",
      "('C', 6)\n",
      "('Cl', 17)\n",
      "('N', 7)\n",
      "('H', 1)\n",
      "('H', 1)\n",
      "('H', 1)\n",
      "[('Cl', 17), ('C', 6), ('C', 6), ('C', 6), ('C', 6), ('C', 6), ('Cl', 17), ('N', 7), ('H', 1), ('H', 1), ('H', 1)]\n",
      "[('C', 6), ('C', 6), ('C', 6), ('C', 6), ('C', 6), ('Cl', 17), ('Cl', 17), ('H', 1), ('H', 1), ('H', 1), ('N', 7)]\n",
      "[1, 1, 1, 6, 6, 6, 6, 6, 7, 17, 17]\n"
     ]
    }
   ],
   "source": [
    "symList = []\n",
    "test = []\n",
    "def rdkitProcessInputs(interFile,symList, test):\n",
    "    \"\"\"\n",
    "    This function consolidates all RDKit and Chemml calls into one function, generating\n",
    "    mol object to extract data from \n",
    "    \"\"\"\n",
    "    xyz_files = glob.glob(interFile)\n",
    "    molecule_list = [Molecule(interFile, input_type='xyz') for file in xyz_files]\n",
    "    for molecule in molecule_list:\n",
    "        molecule.to_smiles(kekuleSmiles=True)\n",
    "    table = pd.DataFrame(data={'Name':interFile,  \n",
    "                         'SMILES':[molecule.smiles for molecule in molecule_list]}, \n",
    "                   columns=['Name','SMILES'])\n",
    "    smiles = table.iloc[0,1]\n",
    "    interMol = Chem.MolFromSmiles(smiles)\n",
    "\n",
    "    interMol = Chem.AddHs(interMol)\n",
    "    \n",
    "    for atom in interMol.GetAtoms():\n",
    "        step = atom.GetSymbol(),atom.GetAtomicNum()\n",
    "        stepTest = atom.GetSymbol()\n",
    "        test.append(stepTest)\n",
    "        print(step)\n",
    "        symList.append(step)\n",
    "        #print(atom.GetSymbol(), atom.GetAtomicNum(), atom.GetTotalNumHs())\n",
    "\n",
    "\n",
    "rdkitProcessInputs(interFile,symList, test)\n",
    "print(symList)\n",
    "\n",
    "temp = sorted(test)\n",
    "print(sorted(symList))\n",
    "print(sorted(numbers[:]))"
   ]
  },
  {
   "cell_type": "code",
   "execution_count": 31,
   "id": "edf3a177",
   "metadata": {},
   "outputs": [
    {
     "name": "stdout",
     "output_type": "stream",
     "text": [
      "\n",
      "[(17, -0.119822758), (17, -0.119828567), (7, -0.538243531), (6, 0.260573695), (6, -0.453200648), (6, -0.4532028), (6, 0.499768812), (6, 0.499772652), (1, 0.0844758043), (1, 0.16985231), (1, 0.169855031)]\n"
     ]
    }
   ],
   "source": [
    "\n",
    "espCharges = (loadInput.atcharges['esp'][:])\n",
    "numbers = loadInput.atnums\n",
    "\n",
    "print(\"\")\n",
    "\n",
    "numChargeDict = []\n",
    "for i in range(0,len(numbers)):\n",
    "    step=numbers[i],espCharges[i]\n",
    "    numChargeDict.append(step)\n",
    "    \n",
    "print(numChargeDict)\n",
    "\n",
    "\n"
   ]
  },
  {
   "cell_type": "code",
   "execution_count": 32,
   "id": "606397d7",
   "metadata": {},
   "outputs": [
    {
     "ename": "AttributeError",
     "evalue": "'NoneType' object has no attribute 'GetAtoms'",
     "output_type": "error",
     "traceback": [
      "\u001b[0;31m--------------------------------------\u001b[0m",
      "\u001b[0;31mAttributeError\u001b[0mTraceback (most recent call last)",
      "\u001b[0;32m<ipython-input-32-ef4c94da0375>\u001b[0m in \u001b[0;36m<module>\u001b[0;34m\u001b[0m\n\u001b[0;32m----> 1\u001b[0;31m \u001b[0;32mfor\u001b[0m \u001b[0munit\u001b[0m \u001b[0;32min\u001b[0m \u001b[0mmol\u001b[0m\u001b[0;34m.\u001b[0m\u001b[0mGetAtoms\u001b[0m\u001b[0;34m(\u001b[0m\u001b[0;34m)\u001b[0m\u001b[0;34m:\u001b[0m\u001b[0;34m\u001b[0m\u001b[0;34m\u001b[0m\u001b[0m\n\u001b[0m\u001b[1;32m      2\u001b[0m     \u001b[0mstep\u001b[0m \u001b[0;34m=\u001b[0m \u001b[0;34mf\"{unit.GetSymbol()}\"\u001b[0m\u001b[0;34m\u001b[0m\u001b[0;34m\u001b[0m\u001b[0m\n\u001b[1;32m      3\u001b[0m     \u001b[0mtest\u001b[0m\u001b[0;34m.\u001b[0m\u001b[0mappend\u001b[0m\u001b[0;34m(\u001b[0m\u001b[0mstep\u001b[0m\u001b[0;34m)\u001b[0m\u001b[0;34m\u001b[0m\u001b[0;34m\u001b[0m\u001b[0m\n\u001b[1;32m      4\u001b[0m \u001b[0;34m\u001b[0m\u001b[0m\n\u001b[1;32m      5\u001b[0m \u001b[0mprint\u001b[0m\u001b[0;34m(\u001b[0m\u001b[0msorted\u001b[0m\u001b[0;34m(\u001b[0m\u001b[0mtest\u001b[0m\u001b[0;34m)\u001b[0m\u001b[0;34m)\u001b[0m\u001b[0;34m\u001b[0m\u001b[0;34m\u001b[0m\u001b[0m\n",
      "\u001b[0;31mAttributeError\u001b[0m: 'NoneType' object has no attribute 'GetAtoms'"
     ]
    }
   ],
   "source": [
    "\n",
    "for unit in mol.GetAtoms(): \n",
    "    step = f\"{unit.GetSymbol()}\"\n",
    "    test.append(step)\n",
    "    \n",
    "print(sorted(test))\n",
    "temp = sorted(test)"
   ]
  },
  {
   "cell_type": "code",
   "execution_count": 61,
   "id": "0c73fda1",
   "metadata": {},
   "outputs": [
    {
     "name": "stdout",
     "output_type": "stream",
     "text": [
      "['Cl', 'C', 'C', 'C', 'C', 'C', 'Cl', 'N', 'H', 'H', 'H']\n",
      "[17 17  7  6  6  6  6  6  1  1  1]\n",
      "['C1', 'C1', 'C2', 'C3', 'C1', 'Cl1', 'Cl1', 'H1', 'H2', 'H1', 'N1']\n"
     ]
    }
   ],
   "source": [
    "redundantNumberDict = []\n",
    "convertedSymDict = []\n",
    "atomList = []\n",
    "def ConvertAtomnumToAtomsym(convertedSymDict):\n",
    "    for i in range(0,len(numbers)):\n",
    "        if numbers[i] == symList[i][1]:\n",
    "            step = symList[i][0]\n",
    "            convertedSymDict.append(step)\n",
    "        elif numbers[i] != symList[i][1]:\n",
    "            step = symList[i][0]\n",
    "            convertedSymDict.append(step)\n",
    "        atomList.append(numbers[i])\n",
    "ConvertAtomnumToAtomsym(convertedSymDict)\n",
    "\n",
    "print(convertedSymDict)\n",
    "print(numbers[:])\n",
    "convertedSymDict = (sorted(convertedSymDict))\n",
    "\n",
    "def RedundantAtomCheck(redundantNumberDict):\n",
    "    count = 0\n",
    "    \n",
    "    for i in range(len(numbers)):\n",
    "        if numbers[i] != numbers[i-1]:\n",
    "            count +=1\n",
    "           # print(f\"{numbers[i]} REDUNANT ATOM! APPENDING INTEGER!\")\n",
    "\n",
    "            step = f\"{convertedSymDict[i]}{count}\"\n",
    "            redundantNumberDict.append(step)\n",
    "                                       \n",
    "        elif numbers[i] == numbers[i-1]: \n",
    "            count = 1\n",
    "            step = f\"{convertedSymDict[i]}{count}\"\n",
    "            redundantNumberDict.append(step)\n",
    "            count  \n",
    "    return redundantNumberDict                                      \n",
    "                                       \n",
    "RedundantAtomCheck(redundantNumberDict)\n",
    "print(redundantNumberDict)"
   ]
  },
  {
   "cell_type": "code",
   "execution_count": 60,
   "id": "c0625011",
   "metadata": {},
   "outputs": [],
   "source": [
    "\n",
    "f = open(\"attributeFile.defattr\", \"w\")\n",
    "f.write(\"attribute: myFactor\\n\")\n",
    "f.write(\"match mode: any\\n\")\n",
    "f.write(\"recipient: atoms\\n\")\n",
    "for i,p in enumerate(redundantNumberDict): \n",
    "    f.write(f\"\\t@{symList[i]}\\t{espCharges[i]} \\n\")\n",
    "f.close() \n",
    "    \n"
   ]
  },
  {
   "cell_type": "code",
   "execution_count": null,
   "id": "098bb82d",
   "metadata": {},
   "outputs": [],
   "source": [
    " "
   ]
  },
  {
   "cell_type": "code",
   "execution_count": null,
   "id": "b70985bd",
   "metadata": {},
   "outputs": [],
   "source": []
  },
  {
   "cell_type": "code",
   "execution_count": null,
   "id": "a8b97f91",
   "metadata": {},
   "outputs": [],
   "source": []
  },
  {
   "cell_type": "code",
   "execution_count": null,
   "id": "9ab1d882",
   "metadata": {},
   "outputs": [],
   "source": []
  }
 ],
 "metadata": {
  "kernelspec": {
   "display_name": "Python [conda env:.conda-chemml_env] *",
   "language": "python",
   "name": "conda-env-.conda-chemml_env-py"
  },
  "language_info": {
   "codemirror_mode": {
    "name": "ipython",
    "version": 3
   },
   "file_extension": ".py",
   "mimetype": "text/x-python",
   "name": "python",
   "nbconvert_exporter": "python",
   "pygments_lexer": "ipython3",
   "version": "3.7.10"
  }
 },
 "nbformat": 4,
 "nbformat_minor": 5
}
