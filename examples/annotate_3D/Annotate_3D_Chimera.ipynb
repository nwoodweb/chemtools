{
 "cells": [
  {
   "cell_type": "code",
   "execution_count": 18,
   "id": "1f5c3fdd",
   "metadata": {},
   "outputs": [],
   "source": [
    "import iodata\n",
    "from iodata import load_one,dump_one\n",
    "import numpy as np\n",
    "\n",
    "import rdkit\n",
    "from rdkit import Chem\n",
    "from rdkit.Chem import PeriodicTable\n",
    "\n",
    "from chemml.chem import Molecule\n",
    "\n",
    "import os,glob,sys\n",
    "\n",
    "import pandas as pd \n",
    "\n",
    "import mendeleev \n",
    "from mendeleev import element"
   ]
  },
  {
   "cell_type": "code",
   "execution_count": 19,
   "id": "8d549015",
   "metadata": {},
   "outputs": [
    {
     "name": "stdout",
     "output_type": "stream",
     "text": [
      "dichloropyridine26_q+0\n"
     ]
    },
    {
     "name": "stderr",
     "output_type": "stream",
     "text": [
      "RDKit WARNING: [14:43:30] Counts line too short: '' on line4\n"
     ]
    }
   ],
   "source": [
    "inFile = 'dichloropyridine26_q+0.fchk'\n",
    "loadInput = load_one(inFile)\n",
    "dump_one(loadInput,'test.pdb')\n",
    "dump_one(loadInput,'intermediateFile.xyz')\n",
    "interFile='intermediateFile.xyz'\n",
    "molName = inFile[:-5]\n",
    "mol = Chem.MolFromMolFile('test.mol2')\n",
    "print(molName)"
   ]
  },
  {
   "cell_type": "code",
   "execution_count": 57,
   "id": "b6043f33",
   "metadata": {},
   "outputs": [
    {
     "name": "stdout",
     "output_type": "stream",
     "text": [
      "('Cl', 17)\n",
      "('C', 6)\n",
      "('C', 6)\n",
      "('C', 6)\n",
      "('C', 6)\n",
      "('C', 6)\n",
      "('Cl', 17)\n",
      "('N', 7)\n",
      "('H', 1)\n",
      "('H', 1)\n",
      "('H', 1)\n",
      "[('Cl', 17), ('C', 6), ('C', 6), ('C', 6), ('C', 6), ('C', 6), ('Cl', 17), ('N', 7), ('H', 1), ('H', 1), ('H', 1)]\n"
     ]
    }
   ],
   "source": [
    "symList = []\n",
    "def rdkitProcessInputs(interFile,symList):\n",
    "    xyz_files = glob.glob(interFile)\n",
    "    molecule_list = [Molecule(interFile, input_type='xyz') for file in xyz_files]\n",
    "    for molecule in molecule_list:\n",
    "        molecule.to_smiles(kekuleSmiles=True)\n",
    "    table = pd.DataFrame(data={'Name':interFile,  \n",
    "                         'SMILES':[molecule.smiles for molecule in molecule_list]}, \n",
    "                   columns=['Name','SMILES'])\n",
    "    smiles = table.iloc[0,1]\n",
    "    interMol = Chem.MolFromSmiles(smiles)\n",
    "\n",
    "    interMol = Chem.AddHs(interMol)\n",
    "\n",
    "    for atom in interMol.GetAtoms():\n",
    "        step = atom.GetSymbol(),atom.GetAtomicNum()\n",
    "        print(step)\n",
    "        symList.append(step)\n",
    "        #print(atom.GetSymbol(), atom.GetAtomicNum(), atom.GetTotalNumHs())\n",
    "rdkitProcessInputs(interFile,symList)\n",
    "\n",
    "print(symList)"
   ]
  },
  {
   "cell_type": "code",
   "execution_count": 58,
   "id": "edf3a177",
   "metadata": {},
   "outputs": [
    {
     "name": "stdout",
     "output_type": "stream",
     "text": [
      "\n",
      "[(17, -0.119822758), (17, -0.119828567), (7, -0.538243531), (6, 0.260573695), (6, -0.453200648), (6, -0.4532028), (6, 0.499768812), (6, 0.499772652), (1, 0.0844758043), (1, 0.16985231), (1, 0.169855031)]\n"
     ]
    }
   ],
   "source": [
    "\n",
    "espCharges = (loadInput.atcharges['esp'][:])\n",
    "numbers = loadInput.atnums\n",
    "\n",
    "print(\"\")\n",
    "\n",
    "numChargeDict = []\n",
    "for i in range(0,len(numbers)):\n",
    "    step=numbers[i],espCharges[i]\n",
    "    numChargeDict.append(step)\n",
    "    \n",
    "print(numChargeDict)\n",
    "\n",
    "\n"
   ]
  },
  {
   "cell_type": "code",
   "execution_count": null,
   "id": "606397d7",
   "metadata": {},
   "outputs": [],
   "source": [
    "\n"
   ]
  },
  {
   "cell_type": "code",
   "execution_count": 106,
   "id": "0c73fda1",
   "metadata": {},
   "outputs": [
    {
     "name": "stdout",
     "output_type": "stream",
     "text": [
      "['Cl', 'C', 'C', 'C', 'C', 'C', 'Cl', 'N', 'H', 'H', 'H']\n",
      "['Cl1', 'C2', 'C1', 'C1', 'C2', 'C3', 'Cl4', 'N5', 'H1', 'H2', 'H3']\n"
     ]
    }
   ],
   "source": [
    "redundantNumberDict = []\n",
    "convertedSymDict = []\n",
    "\n",
    "def ConvertAtomnumToAtomsym(convertedSymDict):\n",
    "    for i in range(0,len(numbers)):\n",
    "        if numbers[i] == symList[i][1]:\n",
    "            step = symList[i][0]\n",
    "            convertedSymDict.append(step)\n",
    "        elif numbers[i] != symList[i][1]:\n",
    "            step = symList[i][0]\n",
    "            convertedSymDict.append(step)\n",
    "ConvertAtomnumToAtomsym(convertedSymDict)\n",
    "\n",
    "print(convertedSymDict)\n",
    "\n",
    "\n",
    "def RedundantAtomCheck(redundantNumberDict):\n",
    "    count = 0\n",
    "    for i in range(len(numbers)):\n",
    "        if numbers[i] == numbers[i-1]:\n",
    "            count += 1\n",
    "           # print(f\"{numbers[i]} REDUNANT ATOM! APPENDING INTEGER!\")\n",
    "\n",
    "            step = f\"{convertedSymDict[i]}{count}\"\n",
    "           # print(step)\n",
    "            redundantNumberDict.append(step)\n",
    "        elif numbers[i] != numbers[i-1]: \n",
    "            count = 1\n",
    "            step = f\"{convertedSymDict[i]}{count}\"\n",
    "            redundantNumberDict.append(step)\n",
    "            \n",
    "RedundantAtomCheck(redundantNumberDict)\n",
    "print(redundantNumberDict)"
   ]
  },
  {
   "cell_type": "code",
   "execution_count": 107,
   "id": "c0625011",
   "metadata": {},
   "outputs": [],
   "source": [
    "   \n",
    "f = open(\"test.defattr\", \"w\")\n",
    "f.write(\"attribute: myFactor\\n\")\n",
    "#f.write(\"match mode: 1-to-1\\n\")\n",
    "f.write(\"recipient: atoms\\n\")\n",
    "count = 0\n",
    "for i,p in enumerate(redundantNumberDict): \n",
    "    count += 1\n",
    "    f.write(f\"\\t@{redundantNumberDict[i]}\\t{espCharges[i]} \\n\")\n",
    "f.close() \n",
    "\n"
   ]
  },
  {
   "cell_type": "code",
   "execution_count": null,
   "id": "905b7fdb",
   "metadata": {},
   "outputs": [],
   "source": []
  }
 ],
 "metadata": {
  "kernelspec": {
   "display_name": "Python [conda env:.conda-chemml_env] *",
   "language": "python",
   "name": "conda-env-.conda-chemml_env-py"
  },
  "language_info": {
   "codemirror_mode": {
    "name": "ipython",
    "version": 3
   },
   "file_extension": ".py",
   "mimetype": "text/x-python",
   "name": "python",
   "nbconvert_exporter": "python",
   "pygments_lexer": "ipython3",
   "version": "3.7.10"
  }
 },
 "nbformat": 4,
 "nbformat_minor": 5
}
