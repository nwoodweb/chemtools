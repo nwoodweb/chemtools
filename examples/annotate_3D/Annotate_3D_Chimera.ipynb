{
 "cells": [
  {
   "cell_type": "code",
   "execution_count": 1,
   "id": "1f5c3fdd",
   "metadata": {},
   "outputs": [],
   "source": [
    "import iodata\n",
    "from iodata import load_one,dump_one\n",
    "import numpy as np\n",
    "\n",
    "import rdkit\n",
    "from rdkit import Chem\n",
    "from rdkit.Chem import PeriodicTable\n",
    "\n",
    "import os,glob,sys\n",
    "\n",
    "import mendeleev \n",
    "from mendeleev import element"
   ]
  },
  {
   "cell_type": "code",
   "execution_count": 2,
   "id": "8d549015",
   "metadata": {},
   "outputs": [
    {
     "name": "stdout",
     "output_type": "stream",
     "text": [
      "dichloropyridine26_q+0\n"
     ]
    },
    {
     "name": "stderr",
     "output_type": "stream",
     "text": [
      "RDKit WARNING: [14:27:52] Counts line too short: '' on line4\n"
     ]
    }
   ],
   "source": [
    "inFile = 'dichloropyridine26_q+0.fchk'\n",
    "loadInput = load_one(inFile)\n",
    "dump_one(loadInput,'test.pdb')\n",
    "dump_one(loadInput,'test.mol2')\n",
    "molName = inFile[:-5]\n",
    "mol = Chem.MolFromMolFile('test.mol2')\n",
    "print(molName)"
   ]
  },
  {
   "cell_type": "code",
   "execution_count": null,
   "id": "b6043f33",
   "metadata": {},
   "outputs": [],
   "source": []
  },
  {
   "cell_type": "code",
   "execution_count": 3,
   "id": "edf3a177",
   "metadata": {},
   "outputs": [
    {
     "name": "stdout",
     "output_type": "stream",
     "text": [
      "\n",
      "[(17, -0.119822758), (17, -0.119828567), (7, -0.538243531), (6, 0.260573695), (6, -0.453200648), (6, -0.4532028), (6, 0.499768812), (6, 0.499772652), (1, 0.0844758043), (1, 0.16985231), (1, 0.169855031)]\n"
     ]
    }
   ],
   "source": [
    "\n",
    "espCharges = (loadInput.atcharges['esp'][:])\n",
    "numbers = loadInput.atnums\n",
    "\n",
    "print(\"\")\n",
    "\n",
    "numChargeDict = []\n",
    "for i in range(0,len(numbers)):\n",
    "    step=numbers[i],espCharges[i]\n",
    "    numChargeDict.append(step)\n",
    "    \n",
    "print(numChargeDict)\n",
    "\n",
    "\n"
   ]
  },
  {
   "cell_type": "code",
   "execution_count": 4,
   "id": "606397d7",
   "metadata": {},
   "outputs": [],
   "source": [
    "chemSymbolDict = []\n",
    "\n"
   ]
  },
  {
   "cell_type": "code",
   "execution_count": 6,
   "id": "0c73fda1",
   "metadata": {},
   "outputs": [
    {
     "ename": "TypeError",
     "evalue": "unsupported format string passed to type.__format__",
     "output_type": "error",
     "traceback": [
      "\u001b[0;31m---------------------------------------------------------------------------\u001b[0m",
      "\u001b[0;31mTypeError\u001b[0m                                 Traceback (most recent call last)",
      "\u001b[0;32m<ipython-input-6-c77a4b7cc6e1>\u001b[0m in \u001b[0;36m<module>\u001b[0;34m\u001b[0m\n\u001b[1;32m      1\u001b[0m \u001b[0mredundantNumberDict\u001b[0m \u001b[0;34m=\u001b[0m \u001b[0;34m[\u001b[0m\u001b[0;34m]\u001b[0m\u001b[0;34m\u001b[0m\u001b[0;34m\u001b[0m\u001b[0m\n\u001b[1;32m      2\u001b[0m \u001b[0;34m\u001b[0m\u001b[0m\n\u001b[0;32m----> 3\u001b[0;31m \u001b[0melement\u001b[0m\u001b[0;34m(\u001b[0m\u001b[0mnumbers\u001b[0m\u001b[0;34m[\u001b[0m\u001b[0;36m1\u001b[0m\u001b[0;34m]\u001b[0m\u001b[0;34m)\u001b[0m\u001b[0;34m\u001b[0m\u001b[0;34m\u001b[0m\u001b[0m\n\u001b[0m\u001b[1;32m      4\u001b[0m \u001b[0;32mdef\u001b[0m \u001b[0mRedundantAtomCheck\u001b[0m\u001b[0;34m(\u001b[0m\u001b[0mredundantNumberDict\u001b[0m\u001b[0;34m)\u001b[0m\u001b[0;34m:\u001b[0m\u001b[0;34m\u001b[0m\u001b[0;34m\u001b[0m\u001b[0m\n\u001b[1;32m      5\u001b[0m     \u001b[0mcount\u001b[0m \u001b[0;34m=\u001b[0m \u001b[0;36m0\u001b[0m\u001b[0;34m\u001b[0m\u001b[0;34m\u001b[0m\u001b[0m\n",
      "\u001b[0;32m~/.conda/envs/chemml_env/lib/python3.7/site-packages/mendeleev/mendeleev.py\u001b[0m in \u001b[0;36melement\u001b[0;34m(ids)\u001b[0m\n\u001b[1;32m     65\u001b[0m     \u001b[0;32melse\u001b[0m\u001b[0;34m:\u001b[0m\u001b[0;34m\u001b[0m\u001b[0;34m\u001b[0m\u001b[0m\n\u001b[1;32m     66\u001b[0m         raise ValueError(\n\u001b[0;32m---> 67\u001b[0;31m             \u001b[0;34m\"Expected a <list>, <tuple>, <str> or <int>, got: {0:s}\"\u001b[0m\u001b[0;34m.\u001b[0m\u001b[0mformat\u001b[0m\u001b[0;34m(\u001b[0m\u001b[0mtype\u001b[0m\u001b[0;34m(\u001b[0m\u001b[0mids\u001b[0m\u001b[0;34m)\u001b[0m\u001b[0;34m)\u001b[0m\u001b[0;34m\u001b[0m\u001b[0;34m\u001b[0m\u001b[0m\n\u001b[0m\u001b[1;32m     68\u001b[0m         )\n\u001b[1;32m     69\u001b[0m \u001b[0;34m\u001b[0m\u001b[0m\n",
      "\u001b[0;31mTypeError\u001b[0m: unsupported format string passed to type.__format__"
     ]
    }
   ],
   "source": [
    "redundantNumberDict = []\n",
    "\n",
    "element(numbers[1])\n",
    "def RedundantAtomCheck(redundantNumberDict):\n",
    "    count = 0\n",
    "    for i in range(0,len(numbers)):\n",
    "        if numbers[i] == numbers[i-1]:\n",
    "            count += 1\n",
    "            print(f\"{numbers[i]} REDUNANT ATOM! APPENDING INTEGER!\")\n",
    "\n",
    "            step = f\"{numbers[i]}{count}\"\n",
    "            print(step)\n",
    "            redundantNumberDict.append(step)\n",
    "        elif numbers[i] != numbers[i-1]: \n",
    "            count = 1\n",
    "            step = f\"{numbers[i]}{count}\"\n",
    "            redundantNumberDict.append(step)\n",
    "            \n",
    "RedundantAtomCheck(redundantNumberDict)\n",
    "print(redundantNumberDict)"
   ]
  },
  {
   "cell_type": "code",
   "execution_count": 27,
   "id": "c0625011",
   "metadata": {},
   "outputs": [],
   "source": [
    "   \n",
    "f = open(\"test.defattr\", \"w\")\n",
    "f.write(\"attribute: myFactor\\n\")\n",
    "#f.write(\"match mode: 1-to-1\\n\")\n",
    "f.write(\"recipient: atoms\\n\")\n",
    "count = 0\n",
    "for i,p in numChargeDict: \n",
    "    count += 1\n",
    "    f.write(f\"\\t@{count}\\t{p} \\n\")\n",
    "f.close() \n",
    "\n"
   ]
  },
  {
   "cell_type": "code",
   "execution_count": 28,
   "id": "7a9d69ff",
   "metadata": {},
   "outputs": [
    {
     "name": "stdout",
     "output_type": "stream",
     "text": [
      "17\n",
      "17\n",
      "7\n",
      "6\n",
      "6\n",
      "6\n",
      "6\n",
      "6\n",
      "1\n",
      "1\n",
      "1\n"
     ]
    }
   ],
   "source": [
    "for x in numbers: \n",
    "    mystring = x \n",
    "    print(mystring)\n"
   ]
  },
  {
   "cell_type": "code",
   "execution_count": 29,
   "id": "44b024f7",
   "metadata": {},
   "outputs": [
    {
     "name": "stdout",
     "output_type": "stream",
     "text": [
      "[17 17  7  6  6  6  6  6  1  1  1]\n"
     ]
    }
   ],
   "source": [
    "print(numbers)"
   ]
  },
  {
   "cell_type": "code",
   "execution_count": 26,
   "id": "f7a711b0",
   "metadata": {},
   "outputs": [
    {
     "name": "stderr",
     "output_type": "stream",
     "text": [
      "RDKit WARNING: [14:20:11] Counts line too short: '' on line4\n"
     ]
    },
    {
     "ename": "AttributeError",
     "evalue": "'NoneType' object has no attribute 'GetAtoms'",
     "output_type": "error",
     "traceback": [
      "\u001b[0;31m---------------------------------------------------------------------------\u001b[0m",
      "\u001b[0;31mAttributeError\u001b[0m                            Traceback (most recent call last)",
      "\u001b[0;32m<ipython-input-26-bfd2be0eb7c6>\u001b[0m in \u001b[0;36m<module>\u001b[0;34m\u001b[0m\n\u001b[1;32m      1\u001b[0m \u001b[0mmol2\u001b[0m \u001b[0;34m=\u001b[0m \u001b[0mChem\u001b[0m\u001b[0;34m.\u001b[0m\u001b[0mMolFromMolFile\u001b[0m\u001b[0;34m(\u001b[0m\u001b[0;34m'test.mol2'\u001b[0m\u001b[0;34m)\u001b[0m\u001b[0;34m\u001b[0m\u001b[0;34m\u001b[0m\u001b[0m\n\u001b[0;32m----> 2\u001b[0;31m \u001b[0;32mfor\u001b[0m \u001b[0matom\u001b[0m \u001b[0;32min\u001b[0m \u001b[0mmol2\u001b[0m\u001b[0;34m.\u001b[0m\u001b[0mGetAtoms\u001b[0m\u001b[0;34m(\u001b[0m\u001b[0;34m)\u001b[0m\u001b[0;34m:\u001b[0m\u001b[0;34m\u001b[0m\u001b[0;34m\u001b[0m\u001b[0m\n\u001b[0m\u001b[1;32m      3\u001b[0m    \u001b[0mprint\u001b[0m\u001b[0;34m(\u001b[0m\u001b[0matom\u001b[0m\u001b[0;34m.\u001b[0m\u001b[0mGetSymbol\u001b[0m\u001b[0;34m(\u001b[0m\u001b[0;34m)\u001b[0m\u001b[0;34m,\u001b[0m \u001b[0matom\u001b[0m\u001b[0;34m.\u001b[0m\u001b[0mGetExplicitValence\u001b[0m\u001b[0;34m(\u001b[0m\u001b[0;34m)\u001b[0m\u001b[0;34m,\u001b[0m \u001b[0matom\u001b[0m\u001b[0;34m.\u001b[0m\u001b[0mGetTotalNumHs\u001b[0m\u001b[0;34m(\u001b[0m\u001b[0;34m)\u001b[0m\u001b[0;34m)\u001b[0m\u001b[0;34m\u001b[0m\u001b[0;34m\u001b[0m\u001b[0m\n",
      "\u001b[0;31mAttributeError\u001b[0m: 'NoneType' object has no attribute 'GetAtoms'"
     ]
    }
   ],
   "source": [
    "mol2 = Chem.MolFromMolFile('test.mol2')\n",
    "for atom in mol2.GetAtoms():\n",
    "   print(atom.GetSymbol(), atom.GetExplicitValence(), atom.GetTotalNumHs())"
   ]
  },
  {
   "cell_type": "code",
   "execution_count": null,
   "id": "e65e56e1",
   "metadata": {},
   "outputs": [],
   "source": []
  }
 ],
 "metadata": {
  "kernelspec": {
   "display_name": "Python [conda env:.conda-chemml_env] *",
   "language": "python",
   "name": "conda-env-.conda-chemml_env-py"
  },
  "language_info": {
   "codemirror_mode": {
    "name": "ipython",
    "version": 3
   },
   "file_extension": ".py",
   "mimetype": "text/x-python",
   "name": "python",
   "nbconvert_exporter": "python",
   "pygments_lexer": "ipython3",
   "version": "3.7.10"
  }
 },
 "nbformat": 4,
 "nbformat_minor": 5
}
